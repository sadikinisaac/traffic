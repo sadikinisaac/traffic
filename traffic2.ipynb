{
 "cells": [
  {
   "cell_type": "code",
   "execution_count": 1,
   "metadata": {},
   "outputs": [],
   "source": [
    "#Importing Required Packages\n",
    "\n",
    "import numpy as np\n",
    "import pandas as pd\n",
    "import matplotlib.pyplot as plt\n",
    "import seaborn as sns\n",
    "import statsmodels.api as sm\n",
    "import warnings\n",
    "warnings.filterwarnings(\"ignore\")"
   ]
  },
  {
   "cell_type": "code",
   "execution_count": 2,
   "metadata": {},
   "outputs": [],
   "source": [
    "#Importing the Dataset\n",
    "\n",
    "traffic = pd.read_csv('traffic.csv')"
   ]
  },
  {
   "cell_type": "code",
   "execution_count": 3,
   "metadata": {},
   "outputs": [
    {
     "data": {
      "text/html": [
       "<div>\n",
       "<style scoped>\n",
       "    .dataframe tbody tr th:only-of-type {\n",
       "        vertical-align: middle;\n",
       "    }\n",
       "\n",
       "    .dataframe tbody tr th {\n",
       "        vertical-align: top;\n",
       "    }\n",
       "\n",
       "    .dataframe thead th {\n",
       "        text-align: right;\n",
       "    }\n",
       "</style>\n",
       "<table border=\"1\" class=\"dataframe\">\n",
       "  <thead>\n",
       "    <tr style=\"text-align: right;\">\n",
       "      <th></th>\n",
       "      <th>holiday</th>\n",
       "      <th>temp</th>\n",
       "      <th>rain_1h</th>\n",
       "      <th>snow_1h</th>\n",
       "      <th>clouds_all</th>\n",
       "      <th>weather_main</th>\n",
       "      <th>weather_description</th>\n",
       "      <th>date_time</th>\n",
       "      <th>traffic_volume</th>\n",
       "    </tr>\n",
       "  </thead>\n",
       "  <tbody>\n",
       "    <tr>\n",
       "      <td>0</td>\n",
       "      <td>New Years Day</td>\n",
       "      <td>263.49</td>\n",
       "      <td>0.0</td>\n",
       "      <td>0</td>\n",
       "      <td>58</td>\n",
       "      <td>Clouds</td>\n",
       "      <td>broken clouds</td>\n",
       "      <td>2013-01-01 00:00:00</td>\n",
       "      <td>1439</td>\n",
       "    </tr>\n",
       "    <tr>\n",
       "      <td>1</td>\n",
       "      <td>None</td>\n",
       "      <td>263.78</td>\n",
       "      <td>0.0</td>\n",
       "      <td>0</td>\n",
       "      <td>40</td>\n",
       "      <td>Clouds</td>\n",
       "      <td>scattered clouds</td>\n",
       "      <td>2013-01-01 01:00:00</td>\n",
       "      <td>1502</td>\n",
       "    </tr>\n",
       "    <tr>\n",
       "      <td>2</td>\n",
       "      <td>None</td>\n",
       "      <td>264.16</td>\n",
       "      <td>0.0</td>\n",
       "      <td>0</td>\n",
       "      <td>75</td>\n",
       "      <td>Snow</td>\n",
       "      <td>heavy snow</td>\n",
       "      <td>2013-01-01 02:00:00</td>\n",
       "      <td>933</td>\n",
       "    </tr>\n",
       "    <tr>\n",
       "      <td>3</td>\n",
       "      <td>None</td>\n",
       "      <td>263.95</td>\n",
       "      <td>0.0</td>\n",
       "      <td>0</td>\n",
       "      <td>90</td>\n",
       "      <td>Clouds</td>\n",
       "      <td>overcast clouds</td>\n",
       "      <td>2013-01-01 03:00:00</td>\n",
       "      <td>576</td>\n",
       "    </tr>\n",
       "    <tr>\n",
       "      <td>4</td>\n",
       "      <td>None</td>\n",
       "      <td>263.65</td>\n",
       "      <td>0.0</td>\n",
       "      <td>0</td>\n",
       "      <td>90</td>\n",
       "      <td>Clouds</td>\n",
       "      <td>overcast clouds</td>\n",
       "      <td>2013-01-01 04:00:00</td>\n",
       "      <td>372</td>\n",
       "    </tr>\n",
       "  </tbody>\n",
       "</table>\n",
       "</div>"
      ],
      "text/plain": [
       "         holiday    temp  rain_1h  snow_1h  clouds_all weather_main  \\\n",
       "0  New Years Day  263.49      0.0        0          58       Clouds   \n",
       "1           None  263.78      0.0        0          40       Clouds   \n",
       "2           None  264.16      0.0        0          75         Snow   \n",
       "3           None  263.95      0.0        0          90       Clouds   \n",
       "4           None  263.65      0.0        0          90       Clouds   \n",
       "\n",
       "  weather_description            date_time  traffic_volume  \n",
       "0       broken clouds  2013-01-01 00:00:00            1439  \n",
       "1    scattered clouds  2013-01-01 01:00:00            1502  \n",
       "2          heavy snow  2013-01-01 02:00:00             933  \n",
       "3     overcast clouds  2013-01-01 03:00:00             576  \n",
       "4     overcast clouds  2013-01-01 04:00:00             372  "
      ]
     },
     "execution_count": 3,
     "metadata": {},
     "output_type": "execute_result"
    }
   ],
   "source": [
    "traffic.head()"
   ]
  },
  {
   "cell_type": "code",
   "execution_count": 4,
   "metadata": {},
   "outputs": [
    {
     "data": {
      "text/plain": [
       "(8573, 9)"
      ]
     },
     "execution_count": 4,
     "metadata": {},
     "output_type": "execute_result"
    }
   ],
   "source": [
    "#Performing Exploratory Data Analysis\n",
    "\n",
    "traffic.shape"
   ]
  },
  {
   "cell_type": "code",
   "execution_count": 5,
   "metadata": {},
   "outputs": [
    {
     "name": "stdout",
     "output_type": "stream",
     "text": [
      "<class 'pandas.core.frame.DataFrame'>\n",
      "RangeIndex: 8573 entries, 0 to 8572\n",
      "Data columns (total 9 columns):\n",
      "holiday                8573 non-null object\n",
      "temp                   8573 non-null float64\n",
      "rain_1h                8573 non-null float64\n",
      "snow_1h                8573 non-null int64\n",
      "clouds_all             8573 non-null int64\n",
      "weather_main           8573 non-null object\n",
      "weather_description    8573 non-null object\n",
      "date_time              8573 non-null object\n",
      "traffic_volume         8573 non-null int64\n",
      "dtypes: float64(2), int64(3), object(4)\n",
      "memory usage: 602.9+ KB\n"
     ]
    }
   ],
   "source": [
    "traffic.info()"
   ]
  },
  {
   "cell_type": "code",
   "execution_count": null,
   "metadata": {},
   "outputs": [],
   "source": [
    "#Inference :\n",
    "#There are 5 Numerical columns in the dataset out of \n",
    "#that 2 columns have decimal values (float64)\n",
    "\n",
    "#There are 4 Categorical columns in the dataset "
   ]
  },
  {
   "cell_type": "code",
   "execution_count": 6,
   "metadata": {},
   "outputs": [
    {
     "data": {
      "text/plain": [
       "holiday                0\n",
       "temp                   0\n",
       "rain_1h                0\n",
       "snow_1h                0\n",
       "clouds_all             0\n",
       "weather_main           0\n",
       "weather_description    0\n",
       "date_time              0\n",
       "traffic_volume         0\n",
       "dtype: int64"
      ]
     },
     "execution_count": 6,
     "metadata": {},
     "output_type": "execute_result"
    }
   ],
   "source": [
    "traffic.isnull().sum()"
   ]
  },
  {
   "cell_type": "code",
   "execution_count": null,
   "metadata": {},
   "outputs": [],
   "source": [
    "#There is no null values in the dataset"
   ]
  },
  {
   "cell_type": "code",
   "execution_count": 7,
   "metadata": {},
   "outputs": [
    {
     "data": {
      "text/html": [
       "<div>\n",
       "<style scoped>\n",
       "    .dataframe tbody tr th:only-of-type {\n",
       "        vertical-align: middle;\n",
       "    }\n",
       "\n",
       "    .dataframe tbody tr th {\n",
       "        vertical-align: top;\n",
       "    }\n",
       "\n",
       "    .dataframe thead th {\n",
       "        text-align: right;\n",
       "    }\n",
       "</style>\n",
       "<table border=\"1\" class=\"dataframe\">\n",
       "  <thead>\n",
       "    <tr style=\"text-align: right;\">\n",
       "      <th></th>\n",
       "      <th>temp</th>\n",
       "      <th>rain_1h</th>\n",
       "      <th>snow_1h</th>\n",
       "      <th>clouds_all</th>\n",
       "      <th>traffic_volume</th>\n",
       "    </tr>\n",
       "  </thead>\n",
       "  <tbody>\n",
       "    <tr>\n",
       "      <td>count</td>\n",
       "      <td>8573.000000</td>\n",
       "      <td>8573.000000</td>\n",
       "      <td>8573.0</td>\n",
       "      <td>8573.000000</td>\n",
       "      <td>8573.000000</td>\n",
       "    </tr>\n",
       "    <tr>\n",
       "      <td>mean</td>\n",
       "      <td>278.976352</td>\n",
       "      <td>0.161284</td>\n",
       "      <td>0.0</td>\n",
       "      <td>52.560947</td>\n",
       "      <td>3286.762160</td>\n",
       "    </tr>\n",
       "    <tr>\n",
       "      <td>std</td>\n",
       "      <td>13.322459</td>\n",
       "      <td>1.439626</td>\n",
       "      <td>0.0</td>\n",
       "      <td>37.470062</td>\n",
       "      <td>2028.322769</td>\n",
       "    </tr>\n",
       "    <tr>\n",
       "      <td>min</td>\n",
       "      <td>244.820000</td>\n",
       "      <td>0.000000</td>\n",
       "      <td>0.0</td>\n",
       "      <td>0.000000</td>\n",
       "      <td>164.000000</td>\n",
       "    </tr>\n",
       "    <tr>\n",
       "      <td>25%</td>\n",
       "      <td>269.460000</td>\n",
       "      <td>0.000000</td>\n",
       "      <td>0.0</td>\n",
       "      <td>1.000000</td>\n",
       "      <td>1193.000000</td>\n",
       "    </tr>\n",
       "    <tr>\n",
       "      <td>50%</td>\n",
       "      <td>277.330000</td>\n",
       "      <td>0.000000</td>\n",
       "      <td>0.0</td>\n",
       "      <td>64.000000</td>\n",
       "      <td>3344.000000</td>\n",
       "    </tr>\n",
       "    <tr>\n",
       "      <td>75%</td>\n",
       "      <td>290.400000</td>\n",
       "      <td>0.000000</td>\n",
       "      <td>0.0</td>\n",
       "      <td>90.000000</td>\n",
       "      <td>5001.000000</td>\n",
       "    </tr>\n",
       "    <tr>\n",
       "      <td>max</td>\n",
       "      <td>308.240000</td>\n",
       "      <td>55.630000</td>\n",
       "      <td>0.0</td>\n",
       "      <td>100.000000</td>\n",
       "      <td>7217.000000</td>\n",
       "    </tr>\n",
       "  </tbody>\n",
       "</table>\n",
       "</div>"
      ],
      "text/plain": [
       "              temp      rain_1h  snow_1h   clouds_all  traffic_volume\n",
       "count  8573.000000  8573.000000   8573.0  8573.000000     8573.000000\n",
       "mean    278.976352     0.161284      0.0    52.560947     3286.762160\n",
       "std      13.322459     1.439626      0.0    37.470062     2028.322769\n",
       "min     244.820000     0.000000      0.0     0.000000      164.000000\n",
       "25%     269.460000     0.000000      0.0     1.000000     1193.000000\n",
       "50%     277.330000     0.000000      0.0    64.000000     3344.000000\n",
       "75%     290.400000     0.000000      0.0    90.000000     5001.000000\n",
       "max     308.240000    55.630000      0.0   100.000000     7217.000000"
      ]
     },
     "execution_count": 7,
     "metadata": {},
     "output_type": "execute_result"
    }
   ],
   "source": [
    "traffic.describe()"
   ]
  },
  {
   "cell_type": "markdown",
   "metadata": {},
   "source": [
    "The mean and median of all the columns will make us to get to know about the skewness.\n",
    "\n",
    "As we know when :\n",
    "      mean > median the data is right skewed which indicates most of the values are at right side and outliers might present at the left side on the normal distribution curve.\n",
    "      mean < median vice versa.\n",
    "\n",
    "In this cases there is no big variation in the mean and median. Outliers have to be analysed."
   ]
  },
  {
   "cell_type": "markdown",
   "metadata": {},
   "source": [
    "Correlation Plot"
   ]
  },
  {
   "cell_type": "code",
   "execution_count": 8,
   "metadata": {},
   "outputs": [
    {
     "data": {
      "image/png": "[encoded data removed]",
      "text/plain": [
       "<Figure size 576x144 with 2 Axes>"
      ]
     },
     "metadata": {
      "needs_background": "light"
     },
     "output_type": "display_data"
    }
   ],
   "source": [
    "corr = traffic.corr()\n",
    "plt.figure(figsize=(8,2))\n",
    "sns.heatmap(corr,annot=True,linewidths=0.5,cmap='twilight')\n",
    "plt.show()"
   ]
  },
  {
   "cell_type": "markdown",
   "metadata": {},
   "source": [
    "From correlation plot we can say that temp is positively correlated with output variable traffic_volume. But they are not strongly correlated."
   ]
  },
  {
   "cell_type": "markdown",
   "metadata": {},
   "source": [
    "Visualizing the Numerical Categories"
   ]
  },
  {
   "cell_type": "code",
   "execution_count": 9,
   "metadata": {},
   "outputs": [
    {
     "data": {
      "image/png": "[encoded data removed]",
      "text/plain": [
       "<Figure size 864x576 with 6 Axes>"
      ]
     },
     "metadata": {
      "needs_background": "light"
     },
     "output_type": "display_data"
    }
   ],
   "source": [
    "traffic.hist(figsize=(12,8))\n",
    "plt.show()"
   ]
  },
  {
   "cell_type": "markdown",
   "metadata": {},
   "source": [
    "We can see all the numerical categories and \n",
    "their values range in the histogram plot.\n",
    "   \n",
    "    In clouds_all column more values are in the range 90-100 and 0-10.\n",
    "    \n",
    "    In rain_1h and snow_1h are having low decimal values \n",
    "    and in range 0 -5 and 0.0-0.05 respectively.\n",
    "    \n",
    "    In temp columns the minimum value is around 220 \n",
    "    and maximum value is 310 and have good distribution in 250 -310.\n",
    "    \n",
    "    In traffic_volume column the data is well distributed throughout the range."
   ]
  },
  {
   "cell_type": "markdown",
   "metadata": {},
   "source": [
    "Outlier Detection\n",
    "Applying Scatter Plot for numerical variables"
   ]
  },
  {
   "cell_type": "code",
   "execution_count": 10,
   "metadata": {},
   "outputs": [
    {
     "data": {
      "image/png": "[encoded data removed]",
      "text/plain": [
       "<Figure size 900x900 with 30 Axes>"
      ]
     },
     "metadata": {
      "needs_background": "light"
     },
     "output_type": "display_data"
    }
   ],
   "source": [
    "cols =['clouds_all','rain_1h','snow_1h','temp','traffic_volume']\n",
    "sns.pairplot(traffic[cols])\n",
    "plt.show()"
   ]
  },
  {
   "cell_type": "code",
   "execution_count": 11,
   "metadata": {},
   "outputs": [
    {
     "data": {
      "image/png": "[encoded data removed]",
      "text/plain": [
       "<Figure size 1008x1080 with 5 Axes>"
      ]
     },
     "metadata": {
      "needs_background": "light"
     },
     "output_type": "display_data"
    }
   ],
   "source": [
    "#Applying box plot for all the numeric values\n",
    "\n",
    "plt.figure(figsize=(14,15))\n",
    "plt.subplot(3,2,1)\n",
    "plt.boxplot(traffic['clouds_all'])\n",
    "plt.ylim(0,130)\n",
    "plt.title('clouds_all')\n",
    "\n",
    "plt.subplot(3,2,2)\n",
    "plt.boxplot(traffic['rain_1h'])\n",
    "plt.title('rain_1h')\n",
    "\n",
    "plt.subplot(3,2,3)\n",
    "plt.boxplot(traffic['snow_1h'])\n",
    "plt.title('snow_1h')\n",
    "\n",
    "plt.subplot(3,2,4)\n",
    "plt.boxplot(traffic['temp'])\n",
    "plt.title('temp')\n",
    "\n",
    "plt.subplot(3,2,5)\n",
    "plt.boxplot(traffic['traffic_volume'])\n",
    "plt.title('traffic_volume')\n",
    "\n",
    "plt.show()"
   ]
  },
  {
   "cell_type": "code",
   "execution_count": 12,
   "metadata": {},
   "outputs": [
    {
     "data": {
      "text/html": [
       "<div>\n",
       "<style scoped>\n",
       "    .dataframe tbody tr th:only-of-type {\n",
       "        vertical-align: middle;\n",
       "    }\n",
       "\n",
       "    .dataframe tbody tr th {\n",
       "        vertical-align: top;\n",
       "    }\n",
       "\n",
       "    .dataframe thead th {\n",
       "        text-align: right;\n",
       "    }\n",
       "</style>\n",
       "<table border=\"1\" class=\"dataframe\">\n",
       "  <thead>\n",
       "    <tr style=\"text-align: right;\">\n",
       "      <th></th>\n",
       "      <th>holiday</th>\n",
       "      <th>temp</th>\n",
       "      <th>rain_1h</th>\n",
       "      <th>snow_1h</th>\n",
       "      <th>clouds_all</th>\n",
       "      <th>weather_main</th>\n",
       "      <th>weather_description</th>\n",
       "      <th>date_time</th>\n",
       "      <th>traffic_volume</th>\n",
       "    </tr>\n",
       "  </thead>\n",
       "  <tbody>\n",
       "    <tr>\n",
       "      <td>5688</td>\n",
       "      <td>None</td>\n",
       "      <td>289.1</td>\n",
       "      <td>55.63</td>\n",
       "      <td>0</td>\n",
       "      <td>68</td>\n",
       "      <td>Rain</td>\n",
       "      <td>very heavy rain</td>\n",
       "      <td>2013-08-07 02:00:00</td>\n",
       "      <td>315</td>\n",
       "    </tr>\n",
       "  </tbody>\n",
       "</table>\n",
       "</div>"
      ],
      "text/plain": [
       "     holiday   temp  rain_1h  snow_1h  clouds_all weather_main  \\\n",
       "5688    None  289.1    55.63        0          68         Rain   \n",
       "\n",
       "     weather_description            date_time  traffic_volume  \n",
       "5688     very heavy rain  2013-08-07 02:00:00             315  "
      ]
     },
     "execution_count": 12,
     "metadata": {},
     "output_type": "execute_result"
    }
   ],
   "source": [
    "# rain_1h column\n",
    "traffic[(traffic['rain_1h'] == traffic['rain_1h'].max())]"
   ]
  },
  {
   "cell_type": "markdown",
   "metadata": {},
   "source": [
    "By extracting the whole row we can say the data is valid. since it comes under very heavy rain. but we need to compare it with the other records which has 'very heavy rain'"
   ]
  },
  {
   "cell_type": "code",
   "execution_count": 13,
   "metadata": {},
   "outputs": [
    {
     "data": {
      "text/html": [
       "<div>\n",
       "<style scoped>\n",
       "    .dataframe tbody tr th:only-of-type {\n",
       "        vertical-align: middle;\n",
       "    }\n",
       "\n",
       "    .dataframe tbody tr th {\n",
       "        vertical-align: top;\n",
       "    }\n",
       "\n",
       "    .dataframe thead th {\n",
       "        text-align: right;\n",
       "    }\n",
       "</style>\n",
       "<table border=\"1\" class=\"dataframe\">\n",
       "  <thead>\n",
       "    <tr style=\"text-align: right;\">\n",
       "      <th></th>\n",
       "      <th>holiday</th>\n",
       "      <th>temp</th>\n",
       "      <th>rain_1h</th>\n",
       "      <th>snow_1h</th>\n",
       "      <th>clouds_all</th>\n",
       "      <th>weather_main</th>\n",
       "      <th>weather_description</th>\n",
       "      <th>date_time</th>\n",
       "      <th>traffic_volume</th>\n",
       "    </tr>\n",
       "  </thead>\n",
       "  <tbody>\n",
       "    <tr>\n",
       "      <td>4574</td>\n",
       "      <td>None</td>\n",
       "      <td>291.76</td>\n",
       "      <td>16.38</td>\n",
       "      <td>0</td>\n",
       "      <td>76</td>\n",
       "      <td>Rain</td>\n",
       "      <td>very heavy rain</td>\n",
       "      <td>2013-06-22 05:00:00</td>\n",
       "      <td>635</td>\n",
       "    </tr>\n",
       "    <tr>\n",
       "      <td>4620</td>\n",
       "      <td>None</td>\n",
       "      <td>295.82</td>\n",
       "      <td>44.45</td>\n",
       "      <td>0</td>\n",
       "      <td>76</td>\n",
       "      <td>Rain</td>\n",
       "      <td>very heavy rain</td>\n",
       "      <td>2013-06-24 11:00:00</td>\n",
       "      <td>4802</td>\n",
       "    </tr>\n",
       "    <tr>\n",
       "      <td>5105</td>\n",
       "      <td>None</td>\n",
       "      <td>292.82</td>\n",
       "      <td>19.90</td>\n",
       "      <td>0</td>\n",
       "      <td>20</td>\n",
       "      <td>Rain</td>\n",
       "      <td>very heavy rain</td>\n",
       "      <td>2013-07-14 05:00:00</td>\n",
       "      <td>542</td>\n",
       "    </tr>\n",
       "    <tr>\n",
       "      <td>5108</td>\n",
       "      <td>None</td>\n",
       "      <td>292.65</td>\n",
       "      <td>25.32</td>\n",
       "      <td>0</td>\n",
       "      <td>8</td>\n",
       "      <td>Rain</td>\n",
       "      <td>very heavy rain</td>\n",
       "      <td>2013-07-14 06:00:00</td>\n",
       "      <td>958</td>\n",
       "    </tr>\n",
       "    <tr>\n",
       "      <td>5111</td>\n",
       "      <td>None</td>\n",
       "      <td>292.87</td>\n",
       "      <td>21.42</td>\n",
       "      <td>0</td>\n",
       "      <td>90</td>\n",
       "      <td>Rain</td>\n",
       "      <td>very heavy rain</td>\n",
       "      <td>2013-07-14 07:00:00</td>\n",
       "      <td>1745</td>\n",
       "    </tr>\n",
       "    <tr>\n",
       "      <td>5688</td>\n",
       "      <td>None</td>\n",
       "      <td>289.10</td>\n",
       "      <td>55.63</td>\n",
       "      <td>0</td>\n",
       "      <td>68</td>\n",
       "      <td>Rain</td>\n",
       "      <td>very heavy rain</td>\n",
       "      <td>2013-08-07 02:00:00</td>\n",
       "      <td>315</td>\n",
       "    </tr>\n",
       "    <tr>\n",
       "      <td>8175</td>\n",
       "      <td>None</td>\n",
       "      <td>262.65</td>\n",
       "      <td>18.80</td>\n",
       "      <td>0</td>\n",
       "      <td>64</td>\n",
       "      <td>Rain</td>\n",
       "      <td>very heavy rain</td>\n",
       "      <td>2013-12-16 19:00:00</td>\n",
       "      <td>2755</td>\n",
       "    </tr>\n",
       "    <tr>\n",
       "      <td>8247</td>\n",
       "      <td>None</td>\n",
       "      <td>264.50</td>\n",
       "      <td>28.70</td>\n",
       "      <td>0</td>\n",
       "      <td>64</td>\n",
       "      <td>Rain</td>\n",
       "      <td>very heavy rain</td>\n",
       "      <td>2013-12-19 23:00:00</td>\n",
       "      <td>1190</td>\n",
       "    </tr>\n",
       "  </tbody>\n",
       "</table>\n",
       "</div>"
      ],
      "text/plain": [
       "     holiday    temp  rain_1h  snow_1h  clouds_all weather_main  \\\n",
       "4574    None  291.76    16.38        0          76         Rain   \n",
       "4620    None  295.82    44.45        0          76         Rain   \n",
       "5105    None  292.82    19.90        0          20         Rain   \n",
       "5108    None  292.65    25.32        0           8         Rain   \n",
       "5111    None  292.87    21.42        0          90         Rain   \n",
       "5688    None  289.10    55.63        0          68         Rain   \n",
       "8175    None  262.65    18.80        0          64         Rain   \n",
       "8247    None  264.50    28.70        0          64         Rain   \n",
       "\n",
       "     weather_description            date_time  traffic_volume  \n",
       "4574     very heavy rain  2013-06-22 05:00:00             635  \n",
       "4620     very heavy rain  2013-06-24 11:00:00            4802  \n",
       "5105     very heavy rain  2013-07-14 05:00:00             542  \n",
       "5108     very heavy rain  2013-07-14 06:00:00             958  \n",
       "5111     very heavy rain  2013-07-14 07:00:00            1745  \n",
       "5688     very heavy rain  2013-08-07 02:00:00             315  \n",
       "8175     very heavy rain  2013-12-16 19:00:00            2755  \n",
       "8247     very heavy rain  2013-12-19 23:00:00            1190  "
      ]
     },
     "execution_count": 13,
     "metadata": {},
     "output_type": "execute_result"
    }
   ],
   "source": [
    "traffic[(traffic['weather_description']=='very heavy rain')]"
   ]
  },
  {
   "cell_type": "code",
   "execution_count": 14,
   "metadata": {},
   "outputs": [
    {
     "data": {
      "text/html": [
       "<div>\n",
       "<style scoped>\n",
       "    .dataframe tbody tr th:only-of-type {\n",
       "        vertical-align: middle;\n",
       "    }\n",
       "\n",
       "    .dataframe tbody tr th {\n",
       "        vertical-align: top;\n",
       "    }\n",
       "\n",
       "    .dataframe thead th {\n",
       "        text-align: right;\n",
       "    }\n",
       "</style>\n",
       "<table border=\"1\" class=\"dataframe\">\n",
       "  <thead>\n",
       "    <tr style=\"text-align: right;\">\n",
       "      <th></th>\n",
       "      <th>holiday</th>\n",
       "      <th>temp</th>\n",
       "      <th>rain_1h</th>\n",
       "      <th>snow_1h</th>\n",
       "      <th>clouds_all</th>\n",
       "      <th>weather_main</th>\n",
       "      <th>weather_description</th>\n",
       "      <th>date_time</th>\n",
       "      <th>traffic_volume</th>\n",
       "    </tr>\n",
       "  </thead>\n",
       "  <tbody>\n",
       "    <tr>\n",
       "      <td>733</td>\n",
       "      <td>None</td>\n",
       "      <td>244.82</td>\n",
       "      <td>0.0</td>\n",
       "      <td>0</td>\n",
       "      <td>11</td>\n",
       "      <td>Clouds</td>\n",
       "      <td>few clouds</td>\n",
       "      <td>2013-02-02 03:00:00</td>\n",
       "      <td>354</td>\n",
       "    </tr>\n",
       "    <tr>\n",
       "      <td>734</td>\n",
       "      <td>None</td>\n",
       "      <td>244.82</td>\n",
       "      <td>0.0</td>\n",
       "      <td>0</td>\n",
       "      <td>11</td>\n",
       "      <td>Clouds</td>\n",
       "      <td>few clouds</td>\n",
       "      <td>2013-02-02 04:00:00</td>\n",
       "      <td>417</td>\n",
       "    </tr>\n",
       "    <tr>\n",
       "      <td>735</td>\n",
       "      <td>None</td>\n",
       "      <td>244.82</td>\n",
       "      <td>0.0</td>\n",
       "      <td>0</td>\n",
       "      <td>11</td>\n",
       "      <td>Clouds</td>\n",
       "      <td>few clouds</td>\n",
       "      <td>2013-02-02 05:00:00</td>\n",
       "      <td>678</td>\n",
       "    </tr>\n",
       "  </tbody>\n",
       "</table>\n",
       "</div>"
      ],
      "text/plain": [
       "    holiday    temp  rain_1h  snow_1h  clouds_all weather_main  \\\n",
       "733    None  244.82      0.0        0          11       Clouds   \n",
       "734    None  244.82      0.0        0          11       Clouds   \n",
       "735    None  244.82      0.0        0          11       Clouds   \n",
       "\n",
       "    weather_description            date_time  traffic_volume  \n",
       "733          few clouds  2013-02-02 03:00:00             354  \n",
       "734          few clouds  2013-02-02 04:00:00             417  \n",
       "735          few clouds  2013-02-02 05:00:00             678  "
      ]
     },
     "execution_count": 14,
     "metadata": {},
     "output_type": "execute_result"
    }
   ],
   "source": [
    "# temp column\n",
    "traffic[(traffic['temp'] == traffic['temp'].min())]"
   ]
  },
  {
   "cell_type": "code",
   "execution_count": null,
   "metadata": {},
   "outputs": [],
   "source": [
    "#Handling Outliers\n",
    "#rain1h column"
   ]
  },
  {
   "cell_type": "code",
   "execution_count": 15,
   "metadata": {},
   "outputs": [],
   "source": [
    "med_val = traffic['rain_1h'][(traffic['weather_description']=='very heavy rain') & (traffic['traffic_volume'] > 4000)].median()"
   ]
  },
  {
   "cell_type": "code",
   "execution_count": 16,
   "metadata": {},
   "outputs": [],
   "source": [
    "traffic['rain_1h'][traffic['rain_1h'] == traffic['rain_1h'].max()] = med_val"
   ]
  },
  {
   "cell_type": "markdown",
   "metadata": {},
   "source": [
    "Extracting month and year from the date column to get more information about the data"
   ]
  },
  {
   "cell_type": "code",
   "execution_count": 17,
   "metadata": {},
   "outputs": [],
   "source": [
    "import calendar\n",
    "from datetime import datetime"
   ]
  },
  {
   "cell_type": "code",
   "execution_count": 18,
   "metadata": {},
   "outputs": [],
   "source": [
    "traffic['Year']  = [datetime.strptime(i,'%Y-%m-%d %H:%M:%S').year for i in traffic['date_time']]\n",
    "traffic['Month'] = [datetime.strptime(i,'%Y-%m-%d %H:%M:%S').month for i in traffic['date_time']]\n",
    "traffic['Day']   = [datetime.strptime(i,'%Y-%m-%d %H:%M:%S').day for i in traffic['date_time']]\n",
    "traffic['Hour']  = [datetime.strptime(i,'%Y-%m-%d %H:%M:%S').hour for i in traffic['date_time']]"
   ]
  },
  {
   "cell_type": "code",
   "execution_count": 19,
   "metadata": {},
   "outputs": [],
   "source": [
    "traffic = traffic[['holiday','temp','rain_1h','snow_1h','Year','Month','Day','Hour','weather_main','weather_description','traffic_volume']]"
   ]
  },
  {
   "cell_type": "code",
   "execution_count": 20,
   "metadata": {
    "scrolled": true
   },
   "outputs": [
    {
     "data": {
      "text/html": [
       "<div>\n",
       "<style scoped>\n",
       "    .dataframe tbody tr th:only-of-type {\n",
       "        vertical-align: middle;\n",
       "    }\n",
       "\n",
       "    .dataframe tbody tr th {\n",
       "        vertical-align: top;\n",
       "    }\n",
       "\n",
       "    .dataframe thead th {\n",
       "        text-align: right;\n",
       "    }\n",
       "</style>\n",
       "<table border=\"1\" class=\"dataframe\">\n",
       "  <thead>\n",
       "    <tr style=\"text-align: right;\">\n",
       "      <th></th>\n",
       "      <th>holiday</th>\n",
       "      <th>temp</th>\n",
       "      <th>rain_1h</th>\n",
       "      <th>snow_1h</th>\n",
       "      <th>Year</th>\n",
       "      <th>Month</th>\n",
       "      <th>Day</th>\n",
       "      <th>Hour</th>\n",
       "      <th>weather_main</th>\n",
       "      <th>weather_description</th>\n",
       "      <th>traffic_volume</th>\n",
       "    </tr>\n",
       "  </thead>\n",
       "  <tbody>\n",
       "    <tr>\n",
       "      <td>0</td>\n",
       "      <td>New Years Day</td>\n",
       "      <td>263.49</td>\n",
       "      <td>0.0</td>\n",
       "      <td>0</td>\n",
       "      <td>2013</td>\n",
       "      <td>1</td>\n",
       "      <td>1</td>\n",
       "      <td>0</td>\n",
       "      <td>Clouds</td>\n",
       "      <td>broken clouds</td>\n",
       "      <td>1439</td>\n",
       "    </tr>\n",
       "    <tr>\n",
       "      <td>1</td>\n",
       "      <td>None</td>\n",
       "      <td>263.78</td>\n",
       "      <td>0.0</td>\n",
       "      <td>0</td>\n",
       "      <td>2013</td>\n",
       "      <td>1</td>\n",
       "      <td>1</td>\n",
       "      <td>1</td>\n",
       "      <td>Clouds</td>\n",
       "      <td>scattered clouds</td>\n",
       "      <td>1502</td>\n",
       "    </tr>\n",
       "    <tr>\n",
       "      <td>2</td>\n",
       "      <td>None</td>\n",
       "      <td>264.16</td>\n",
       "      <td>0.0</td>\n",
       "      <td>0</td>\n",
       "      <td>2013</td>\n",
       "      <td>1</td>\n",
       "      <td>1</td>\n",
       "      <td>2</td>\n",
       "      <td>Snow</td>\n",
       "      <td>heavy snow</td>\n",
       "      <td>933</td>\n",
       "    </tr>\n",
       "    <tr>\n",
       "      <td>3</td>\n",
       "      <td>None</td>\n",
       "      <td>263.95</td>\n",
       "      <td>0.0</td>\n",
       "      <td>0</td>\n",
       "      <td>2013</td>\n",
       "      <td>1</td>\n",
       "      <td>1</td>\n",
       "      <td>3</td>\n",
       "      <td>Clouds</td>\n",
       "      <td>overcast clouds</td>\n",
       "      <td>576</td>\n",
       "    </tr>\n",
       "    <tr>\n",
       "      <td>4</td>\n",
       "      <td>None</td>\n",
       "      <td>263.65</td>\n",
       "      <td>0.0</td>\n",
       "      <td>0</td>\n",
       "      <td>2013</td>\n",
       "      <td>1</td>\n",
       "      <td>1</td>\n",
       "      <td>4</td>\n",
       "      <td>Clouds</td>\n",
       "      <td>overcast clouds</td>\n",
       "      <td>372</td>\n",
       "    </tr>\n",
       "  </tbody>\n",
       "</table>\n",
       "</div>"
      ],
      "text/plain": [
       "         holiday    temp  rain_1h  snow_1h  Year  Month  Day  Hour  \\\n",
       "0  New Years Day  263.49      0.0        0  2013      1    1     0   \n",
       "1           None  263.78      0.0        0  2013      1    1     1   \n",
       "2           None  264.16      0.0        0  2013      1    1     2   \n",
       "3           None  263.95      0.0        0  2013      1    1     3   \n",
       "4           None  263.65      0.0        0  2013      1    1     4   \n",
       "\n",
       "  weather_main weather_description  traffic_volume  \n",
       "0       Clouds       broken clouds            1439  \n",
       "1       Clouds    scattered clouds            1502  \n",
       "2         Snow          heavy snow             933  \n",
       "3       Clouds     overcast clouds             576  \n",
       "4       Clouds     overcast clouds             372  "
      ]
     },
     "execution_count": 20,
     "metadata": {},
     "output_type": "execute_result"
    }
   ],
   "source": [
    "traffic.head()"
   ]
  },
  {
   "cell_type": "code",
   "execution_count": 21,
   "metadata": {},
   "outputs": [
    {
     "data": {
      "text/html": [
       "<div>\n",
       "<style scoped>\n",
       "    .dataframe tbody tr th:only-of-type {\n",
       "        vertical-align: middle;\n",
       "    }\n",
       "\n",
       "    .dataframe tbody tr th {\n",
       "        vertical-align: top;\n",
       "    }\n",
       "\n",
       "    .dataframe thead th {\n",
       "        text-align: right;\n",
       "    }\n",
       "</style>\n",
       "<table border=\"1\" class=\"dataframe\">\n",
       "  <thead>\n",
       "    <tr style=\"text-align: right;\">\n",
       "      <th></th>\n",
       "      <th>holiday</th>\n",
       "      <th>temp</th>\n",
       "      <th>rain_1h</th>\n",
       "      <th>snow_1h</th>\n",
       "      <th>Year</th>\n",
       "      <th>Month</th>\n",
       "      <th>Day</th>\n",
       "      <th>Hour</th>\n",
       "      <th>weather_main</th>\n",
       "      <th>weather_description</th>\n",
       "      <th>traffic_volume</th>\n",
       "    </tr>\n",
       "  </thead>\n",
       "  <tbody>\n",
       "    <tr>\n",
       "      <td>0</td>\n",
       "      <td>False</td>\n",
       "      <td>False</td>\n",
       "      <td>False</td>\n",
       "      <td>False</td>\n",
       "      <td>False</td>\n",
       "      <td>False</td>\n",
       "      <td>False</td>\n",
       "      <td>False</td>\n",
       "      <td>False</td>\n",
       "      <td>False</td>\n",
       "      <td>False</td>\n",
       "    </tr>\n",
       "    <tr>\n",
       "      <td>1</td>\n",
       "      <td>False</td>\n",
       "      <td>False</td>\n",
       "      <td>False</td>\n",
       "      <td>False</td>\n",
       "      <td>False</td>\n",
       "      <td>False</td>\n",
       "      <td>False</td>\n",
       "      <td>False</td>\n",
       "      <td>False</td>\n",
       "      <td>False</td>\n",
       "      <td>False</td>\n",
       "    </tr>\n",
       "    <tr>\n",
       "      <td>2</td>\n",
       "      <td>False</td>\n",
       "      <td>False</td>\n",
       "      <td>False</td>\n",
       "      <td>False</td>\n",
       "      <td>False</td>\n",
       "      <td>False</td>\n",
       "      <td>False</td>\n",
       "      <td>False</td>\n",
       "      <td>False</td>\n",
       "      <td>False</td>\n",
       "      <td>False</td>\n",
       "    </tr>\n",
       "    <tr>\n",
       "      <td>3</td>\n",
       "      <td>False</td>\n",
       "      <td>False</td>\n",
       "      <td>False</td>\n",
       "      <td>False</td>\n",
       "      <td>False</td>\n",
       "      <td>False</td>\n",
       "      <td>False</td>\n",
       "      <td>False</td>\n",
       "      <td>False</td>\n",
       "      <td>False</td>\n",
       "      <td>False</td>\n",
       "    </tr>\n",
       "    <tr>\n",
       "      <td>4</td>\n",
       "      <td>False</td>\n",
       "      <td>False</td>\n",
       "      <td>False</td>\n",
       "      <td>False</td>\n",
       "      <td>False</td>\n",
       "      <td>False</td>\n",
       "      <td>False</td>\n",
       "      <td>False</td>\n",
       "      <td>False</td>\n",
       "      <td>False</td>\n",
       "      <td>False</td>\n",
       "    </tr>\n",
       "  </tbody>\n",
       "</table>\n",
       "</div>"
      ],
      "text/plain": [
       "   holiday   temp  rain_1h  snow_1h   Year  Month    Day   Hour  weather_main  \\\n",
       "0    False  False    False    False  False  False  False  False         False   \n",
       "1    False  False    False    False  False  False  False  False         False   \n",
       "2    False  False    False    False  False  False  False  False         False   \n",
       "3    False  False    False    False  False  False  False  False         False   \n",
       "4    False  False    False    False  False  False  False  False         False   \n",
       "\n",
       "   weather_description  traffic_volume  \n",
       "0                False           False  \n",
       "1                False           False  \n",
       "2                False           False  \n",
       "3                False           False  \n",
       "4                False           False  "
      ]
     },
     "execution_count": 21,
     "metadata": {},
     "output_type": "execute_result"
    }
   ],
   "source": [
    "missing_data = traffic.isnull()\n",
    "missing_data.head(5)"
   ]
  },
  {
   "cell_type": "code",
   "execution_count": 26,
   "metadata": {},
   "outputs": [],
   "source": [
    "from sklearn.model_selection import train_test_split as tts\n",
    "from sklearn.linear_model import LogisticRegression\n",
    "from sklearn.metrics import classification_report\n",
    "from sklearn.ensemble import RandomForestRegressor\n",
    "from sklearn.tree import DecisionTreeClassifier\n",
    "from scipy.stats import pearsonr\n",
    "from functools import reduce\n",
    "from sklearn.metrics import mean_squared_error\n",
    "from math import sqrt"
   ]
  },
  {
   "cell_type": "code",
   "execution_count": 27,
   "metadata": {},
   "outputs": [],
   "source": [
    "# Holidays categorical\n",
    "holiday = pd.get_dummies(traffic['holiday']).iloc[:, 1:]\n",
    "t_holiday = pd.get_dummies(traffic['holiday']).iloc[:, 1:]"
   ]
  },
  {
   "cell_type": "code",
   "execution_count": 29,
   "metadata": {},
   "outputs": [
    {
     "name": "stdout",
     "output_type": "stream",
     "text": [
      "holiday\n",
      "False    8573\n",
      "Name: holiday, dtype: int64\n",
      "\n",
      "temp\n",
      "False    8573\n",
      "Name: temp, dtype: int64\n",
      "\n",
      "rain_1h\n",
      "False    8573\n",
      "Name: rain_1h, dtype: int64\n",
      "\n",
      "snow_1h\n",
      "False    8573\n",
      "Name: snow_1h, dtype: int64\n",
      "\n",
      "Year\n",
      "False    8573\n",
      "Name: Year, dtype: int64\n",
      "\n",
      "Month\n",
      "False    8573\n",
      "Name: Month, dtype: int64\n",
      "\n",
      "Day\n",
      "False    8573\n",
      "Name: Day, dtype: int64\n",
      "\n",
      "Hour\n",
      "False    8573\n",
      "Name: Hour, dtype: int64\n",
      "\n",
      "weather_main\n",
      "False    8573\n",
      "Name: weather_main, dtype: int64\n",
      "\n",
      "weather_description\n",
      "False    8573\n",
      "Name: weather_description, dtype: int64\n",
      "\n",
      "traffic_volume\n",
      "False    8573\n",
      "Name: traffic_volume, dtype: int64\n",
      "\n"
     ]
    }
   ],
   "source": [
    "for column in missing_data.columns.values.tolist():\n",
    "    print(column)\n",
    "    print (missing_data[column].value_counts())\n",
    "    print(\"\") "
   ]
  },
  {
   "cell_type": "code",
   "execution_count": 30,
   "metadata": {
    "scrolled": true
   },
   "outputs": [
    {
     "data": {
      "text/html": [
       "<div>\n",
       "<style scoped>\n",
       "    .dataframe tbody tr th:only-of-type {\n",
       "        vertical-align: middle;\n",
       "    }\n",
       "\n",
       "    .dataframe tbody tr th {\n",
       "        vertical-align: top;\n",
       "    }\n",
       "\n",
       "    .dataframe thead th {\n",
       "        text-align: right;\n",
       "    }\n",
       "</style>\n",
       "<table border=\"1\" class=\"dataframe\">\n",
       "  <thead>\n",
       "    <tr style=\"text-align: right;\">\n",
       "      <th></th>\n",
       "      <th>temp</th>\n",
       "      <th>rain_1h</th>\n",
       "      <th>snow_1h</th>\n",
       "      <th>Year</th>\n",
       "      <th>Month</th>\n",
       "      <th>Day</th>\n",
       "      <th>Hour</th>\n",
       "      <th>traffic_volume</th>\n",
       "    </tr>\n",
       "  </thead>\n",
       "  <tbody>\n",
       "    <tr>\n",
       "      <td>temp</td>\n",
       "      <td>1.000000</td>\n",
       "      <td>0.074067</td>\n",
       "      <td>NaN</td>\n",
       "      <td>NaN</td>\n",
       "      <td>0.146055</td>\n",
       "      <td>0.043440</td>\n",
       "      <td>0.101898</td>\n",
       "      <td>0.152234</td>\n",
       "    </tr>\n",
       "    <tr>\n",
       "      <td>rain_1h</td>\n",
       "      <td>0.074067</td>\n",
       "      <td>1.000000</td>\n",
       "      <td>NaN</td>\n",
       "      <td>NaN</td>\n",
       "      <td>0.054040</td>\n",
       "      <td>-0.001375</td>\n",
       "      <td>-0.038048</td>\n",
       "      <td>-0.032136</td>\n",
       "    </tr>\n",
       "    <tr>\n",
       "      <td>snow_1h</td>\n",
       "      <td>NaN</td>\n",
       "      <td>NaN</td>\n",
       "      <td>NaN</td>\n",
       "      <td>NaN</td>\n",
       "      <td>NaN</td>\n",
       "      <td>NaN</td>\n",
       "      <td>NaN</td>\n",
       "      <td>NaN</td>\n",
       "    </tr>\n",
       "    <tr>\n",
       "      <td>Year</td>\n",
       "      <td>NaN</td>\n",
       "      <td>NaN</td>\n",
       "      <td>NaN</td>\n",
       "      <td>NaN</td>\n",
       "      <td>NaN</td>\n",
       "      <td>NaN</td>\n",
       "      <td>NaN</td>\n",
       "      <td>NaN</td>\n",
       "    </tr>\n",
       "    <tr>\n",
       "      <td>Month</td>\n",
       "      <td>0.146055</td>\n",
       "      <td>0.054040</td>\n",
       "      <td>NaN</td>\n",
       "      <td>NaN</td>\n",
       "      <td>1.000000</td>\n",
       "      <td>0.016448</td>\n",
       "      <td>-0.004896</td>\n",
       "      <td>-0.001171</td>\n",
       "    </tr>\n",
       "    <tr>\n",
       "      <td>Day</td>\n",
       "      <td>0.043440</td>\n",
       "      <td>-0.001375</td>\n",
       "      <td>NaN</td>\n",
       "      <td>NaN</td>\n",
       "      <td>0.016448</td>\n",
       "      <td>1.000000</td>\n",
       "      <td>-0.017602</td>\n",
       "      <td>-0.021276</td>\n",
       "    </tr>\n",
       "    <tr>\n",
       "      <td>Hour</td>\n",
       "      <td>0.101898</td>\n",
       "      <td>-0.038048</td>\n",
       "      <td>NaN</td>\n",
       "      <td>NaN</td>\n",
       "      <td>-0.004896</td>\n",
       "      <td>-0.017602</td>\n",
       "      <td>1.000000</td>\n",
       "      <td>0.346495</td>\n",
       "    </tr>\n",
       "    <tr>\n",
       "      <td>traffic_volume</td>\n",
       "      <td>0.152234</td>\n",
       "      <td>-0.032136</td>\n",
       "      <td>NaN</td>\n",
       "      <td>NaN</td>\n",
       "      <td>-0.001171</td>\n",
       "      <td>-0.021276</td>\n",
       "      <td>0.346495</td>\n",
       "      <td>1.000000</td>\n",
       "    </tr>\n",
       "  </tbody>\n",
       "</table>\n",
       "</div>"
      ],
      "text/plain": [
       "                    temp   rain_1h  snow_1h  Year     Month       Day  \\\n",
       "temp            1.000000  0.074067      NaN   NaN  0.146055  0.043440   \n",
       "rain_1h         0.074067  1.000000      NaN   NaN  0.054040 -0.001375   \n",
       "snow_1h              NaN       NaN      NaN   NaN       NaN       NaN   \n",
       "Year                 NaN       NaN      NaN   NaN       NaN       NaN   \n",
       "Month           0.146055  0.054040      NaN   NaN  1.000000  0.016448   \n",
       "Day             0.043440 -0.001375      NaN   NaN  0.016448  1.000000   \n",
       "Hour            0.101898 -0.038048      NaN   NaN -0.004896 -0.017602   \n",
       "traffic_volume  0.152234 -0.032136      NaN   NaN -0.001171 -0.021276   \n",
       "\n",
       "                    Hour  traffic_volume  \n",
       "temp            0.101898        0.152234  \n",
       "rain_1h        -0.038048       -0.032136  \n",
       "snow_1h              NaN             NaN  \n",
       "Year                 NaN             NaN  \n",
       "Month          -0.004896       -0.001171  \n",
       "Day            -0.017602       -0.021276  \n",
       "Hour            1.000000        0.346495  \n",
       "traffic_volume  0.346495        1.000000  "
      ]
     },
     "execution_count": 30,
     "metadata": {},
     "output_type": "execute_result"
    }
   ],
   "source": [
    "traffic.corr()"
   ]
  },
  {
   "cell_type": "code",
   "execution_count": 39,
   "metadata": {},
   "outputs": [],
   "source": [
    "\n",
    "\n",
    "import numpy as np\n",
    "import pandas as pd\n",
    "import matplotlib.pyplot as plt\n",
    "import seaborn as sns\n",
    "import statsmodels.api as sm\n",
    "import warnings\n",
    "warnings.filterwarnings(\"ignore\")\n",
    "from sklearn.preprocessing import StandardScaler\n",
    "import scipy.stats as stats\n",
    "import pylab\n",
    "from statsmodels.regression.linear_model import OLS\n",
    "from sklearn.preprocessing import LabelEncoder,StandardScaler,MinMaxScaler,RobustScaler"
   ]
  },
  {
   "cell_type": "code",
   "execution_count": 40,
   "metadata": {},
   "outputs": [],
   "source": [
    "stdscale = StandardScaler()"
   ]
  },
  {
   "cell_type": "code",
   "execution_count": 41,
   "metadata": {},
   "outputs": [],
   "source": [
    "le =LabelEncoder()"
   ]
  },
  {
   "cell_type": "code",
   "execution_count": 42,
   "metadata": {},
   "outputs": [],
   "source": [
    "Holiday_labels = le.fit_transform(traffic['holiday'])"
   ]
  },
  {
   "cell_type": "code",
   "execution_count": 43,
   "metadata": {},
   "outputs": [
    {
     "data": {
      "text/plain": [
       "{0: 'Christmas Day',\n",
       " 1: 'Columbus Day',\n",
       " 2: 'Independence Day',\n",
       " 3: 'Labor Day',\n",
       " 4: 'Memorial Day',\n",
       " 5: 'New Years Day',\n",
       " 6: 'None',\n",
       " 7: 'State Fair',\n",
       " 8: 'Thanksgiving Day',\n",
       " 9: 'Veterans Day',\n",
       " 10: 'Washingtons Birthday'}"
      ]
     },
     "execution_count": 43,
     "metadata": {},
     "output_type": "execute_result"
    }
   ],
   "source": [
    "{index: label for index , label in enumerate(le.classes_)}"
   ]
  },
  {
   "cell_type": "code",
   "execution_count": 45,
   "metadata": {},
   "outputs": [],
   "source": [
    "weather_main = le.fit_transform(traffic['weather_main'])"
   ]
  },
  {
   "cell_type": "code",
   "execution_count": 46,
   "metadata": {},
   "outputs": [
    {
     "data": {
      "text/plain": [
       "{0: 'Clear',\n",
       " 1: 'Clouds',\n",
       " 2: 'Drizzle',\n",
       " 3: 'Fog',\n",
       " 4: 'Haze',\n",
       " 5: 'Mist',\n",
       " 6: 'Rain',\n",
       " 7: 'Snow',\n",
       " 8: 'Squall',\n",
       " 9: 'Thunderstorm'}"
      ]
     },
     "execution_count": 46,
     "metadata": {},
     "output_type": "execute_result"
    }
   ],
   "source": [
    "{index: label for index , label in enumerate(le.classes_)}"
   ]
  },
  {
   "cell_type": "code",
   "execution_count": 47,
   "metadata": {},
   "outputs": [],
   "source": [
    "weather_description = le.fit_transform(traffic['weather_description'])"
   ]
  },
  {
   "cell_type": "code",
   "execution_count": 48,
   "metadata": {},
   "outputs": [
    {
     "data": {
      "text/plain": [
       "{0: 'SQUALLS',\n",
       " 1: 'Sky is Clear',\n",
       " 2: 'broken clouds',\n",
       " 3: 'drizzle',\n",
       " 4: 'few clouds',\n",
       " 5: 'fog',\n",
       " 6: 'freezing rain',\n",
       " 7: 'haze',\n",
       " 8: 'heavy intensity drizzle',\n",
       " 9: 'heavy intensity rain',\n",
       " 10: 'heavy snow',\n",
       " 11: 'light intensity drizzle',\n",
       " 12: 'light intensity shower rain',\n",
       " 13: 'light rain',\n",
       " 14: 'light rain and snow',\n",
       " 15: 'light snow',\n",
       " 16: 'mist',\n",
       " 17: 'moderate rain',\n",
       " 18: 'overcast clouds',\n",
       " 19: 'proximity thunderstorm',\n",
       " 20: 'proximity thunderstorm with drizzle',\n",
       " 21: 'proximity thunderstorm with rain',\n",
       " 22: 'scattered clouds',\n",
       " 23: 'shower snow',\n",
       " 24: 'sky is clear',\n",
       " 25: 'snow',\n",
       " 26: 'thunderstorm',\n",
       " 27: 'thunderstorm with drizzle',\n",
       " 28: 'thunderstorm with heavy rain',\n",
       " 29: 'thunderstorm with light drizzle',\n",
       " 30: 'thunderstorm with light rain',\n",
       " 31: 'thunderstorm with rain',\n",
       " 32: 'very heavy rain'}"
      ]
     },
     "execution_count": 48,
     "metadata": {},
     "output_type": "execute_result"
    }
   ],
   "source": [
    "{index: label for index , label in enumerate(le.classes_)}"
   ]
  },
  {
   "cell_type": "code",
   "execution_count": 49,
   "metadata": {},
   "outputs": [],
   "source": [
    "traffic['holiday'] = le.fit_transform(traffic['holiday'])\n",
    "traffic['weather_main'] = le.fit_transform(traffic['weather_main'])\n",
    "traffic['weather_description'] = le.fit_transform(traffic['weather_description'])"
   ]
  },
  {
   "cell_type": "code",
   "execution_count": 50,
   "metadata": {},
   "outputs": [
    {
     "data": {
      "text/html": [
       "<div>\n",
       "<style scoped>\n",
       "    .dataframe tbody tr th:only-of-type {\n",
       "        vertical-align: middle;\n",
       "    }\n",
       "\n",
       "    .dataframe tbody tr th {\n",
       "        vertical-align: top;\n",
       "    }\n",
       "\n",
       "    .dataframe thead th {\n",
       "        text-align: right;\n",
       "    }\n",
       "</style>\n",
       "<table border=\"1\" class=\"dataframe\">\n",
       "  <thead>\n",
       "    <tr style=\"text-align: right;\">\n",
       "      <th></th>\n",
       "      <th>holiday</th>\n",
       "      <th>temp</th>\n",
       "      <th>rain_1h</th>\n",
       "      <th>snow_1h</th>\n",
       "      <th>Year</th>\n",
       "      <th>Month</th>\n",
       "      <th>Day</th>\n",
       "      <th>Hour</th>\n",
       "      <th>weather_main</th>\n",
       "      <th>weather_description</th>\n",
       "      <th>traffic_volume</th>\n",
       "    </tr>\n",
       "  </thead>\n",
       "  <tbody>\n",
       "    <tr>\n",
       "      <td>0</td>\n",
       "      <td>5</td>\n",
       "      <td>263.49</td>\n",
       "      <td>0.0</td>\n",
       "      <td>0</td>\n",
       "      <td>2013</td>\n",
       "      <td>1</td>\n",
       "      <td>1</td>\n",
       "      <td>0</td>\n",
       "      <td>1</td>\n",
       "      <td>2</td>\n",
       "      <td>1439</td>\n",
       "    </tr>\n",
       "    <tr>\n",
       "      <td>1</td>\n",
       "      <td>6</td>\n",
       "      <td>263.78</td>\n",
       "      <td>0.0</td>\n",
       "      <td>0</td>\n",
       "      <td>2013</td>\n",
       "      <td>1</td>\n",
       "      <td>1</td>\n",
       "      <td>1</td>\n",
       "      <td>1</td>\n",
       "      <td>22</td>\n",
       "      <td>1502</td>\n",
       "    </tr>\n",
       "    <tr>\n",
       "      <td>2</td>\n",
       "      <td>6</td>\n",
       "      <td>264.16</td>\n",
       "      <td>0.0</td>\n",
       "      <td>0</td>\n",
       "      <td>2013</td>\n",
       "      <td>1</td>\n",
       "      <td>1</td>\n",
       "      <td>2</td>\n",
       "      <td>7</td>\n",
       "      <td>10</td>\n",
       "      <td>933</td>\n",
       "    </tr>\n",
       "    <tr>\n",
       "      <td>3</td>\n",
       "      <td>6</td>\n",
       "      <td>263.95</td>\n",
       "      <td>0.0</td>\n",
       "      <td>0</td>\n",
       "      <td>2013</td>\n",
       "      <td>1</td>\n",
       "      <td>1</td>\n",
       "      <td>3</td>\n",
       "      <td>1</td>\n",
       "      <td>18</td>\n",
       "      <td>576</td>\n",
       "    </tr>\n",
       "    <tr>\n",
       "      <td>4</td>\n",
       "      <td>6</td>\n",
       "      <td>263.65</td>\n",
       "      <td>0.0</td>\n",
       "      <td>0</td>\n",
       "      <td>2013</td>\n",
       "      <td>1</td>\n",
       "      <td>1</td>\n",
       "      <td>4</td>\n",
       "      <td>1</td>\n",
       "      <td>18</td>\n",
       "      <td>372</td>\n",
       "    </tr>\n",
       "  </tbody>\n",
       "</table>\n",
       "</div>"
      ],
      "text/plain": [
       "   holiday    temp  rain_1h  snow_1h  Year  Month  Day  Hour  weather_main  \\\n",
       "0        5  263.49      0.0        0  2013      1    1     0             1   \n",
       "1        6  263.78      0.0        0  2013      1    1     1             1   \n",
       "2        6  264.16      0.0        0  2013      1    1     2             7   \n",
       "3        6  263.95      0.0        0  2013      1    1     3             1   \n",
       "4        6  263.65      0.0        0  2013      1    1     4             1   \n",
       "\n",
       "   weather_description  traffic_volume  \n",
       "0                    2            1439  \n",
       "1                   22            1502  \n",
       "2                   10             933  \n",
       "3                   18             576  \n",
       "4                   18             372  "
      ]
     },
     "execution_count": 50,
     "metadata": {},
     "output_type": "execute_result"
    }
   ],
   "source": [
    "traffic.head()"
   ]
  },
  {
   "cell_type": "code",
   "execution_count": 51,
   "metadata": {},
   "outputs": [],
   "source": [
    "traffic.to_csv('traffic-Encoded.csv',header=True,index=False)"
   ]
  },
  {
   "cell_type": "code",
   "execution_count": 52,
   "metadata": {},
   "outputs": [],
   "source": [
    "stdscalar = StandardScaler()"
   ]
  },
  {
   "cell_type": "code",
   "execution_count": 53,
   "metadata": {},
   "outputs": [],
   "source": [
    "traffic_stdscalar = stdscalar.fit_transform(traffic)"
   ]
  },
  {
   "cell_type": "code",
   "execution_count": 54,
   "metadata": {},
   "outputs": [],
   "source": [
    "traffic_stdscalar = pd.DataFrame(traffic_stdscalar,columns=traffic.columns)"
   ]
  },
  {
   "cell_type": "code",
   "execution_count": 55,
   "metadata": {},
   "outputs": [
    {
     "data": {
      "text/html": [
       "<div>\n",
       "<style scoped>\n",
       "    .dataframe tbody tr th:only-of-type {\n",
       "        vertical-align: middle;\n",
       "    }\n",
       "\n",
       "    .dataframe tbody tr th {\n",
       "        vertical-align: top;\n",
       "    }\n",
       "\n",
       "    .dataframe thead th {\n",
       "        text-align: right;\n",
       "    }\n",
       "</style>\n",
       "<table border=\"1\" class=\"dataframe\">\n",
       "  <thead>\n",
       "    <tr style=\"text-align: right;\">\n",
       "      <th></th>\n",
       "      <th>holiday</th>\n",
       "      <th>temp</th>\n",
       "      <th>rain_1h</th>\n",
       "      <th>snow_1h</th>\n",
       "      <th>Year</th>\n",
       "      <th>Month</th>\n",
       "      <th>Day</th>\n",
       "      <th>Hour</th>\n",
       "      <th>weather_main</th>\n",
       "      <th>weather_description</th>\n",
       "      <th>traffic_volume</th>\n",
       "    </tr>\n",
       "  </thead>\n",
       "  <tbody>\n",
       "    <tr>\n",
       "      <td>0</td>\n",
       "      <td>-8.407008</td>\n",
       "      <td>-1.162492</td>\n",
       "      <td>-0.114794</td>\n",
       "      <td>0.0</td>\n",
       "      <td>0.0</td>\n",
       "      <td>-1.529584</td>\n",
       "      <td>-1.682901</td>\n",
       "      <td>-1.657154</td>\n",
       "      <td>-0.563804</td>\n",
       "      <td>-1.382379</td>\n",
       "      <td>-0.911033</td>\n",
       "    </tr>\n",
       "    <tr>\n",
       "      <td>1</td>\n",
       "      <td>0.010801</td>\n",
       "      <td>-1.140723</td>\n",
       "      <td>-0.114794</td>\n",
       "      <td>0.0</td>\n",
       "      <td>0.0</td>\n",
       "      <td>-1.529584</td>\n",
       "      <td>-1.682901</td>\n",
       "      <td>-1.513647</td>\n",
       "      <td>-0.563804</td>\n",
       "      <td>1.034839</td>\n",
       "      <td>-0.879972</td>\n",
       "    </tr>\n",
       "    <tr>\n",
       "      <td>2</td>\n",
       "      <td>0.010801</td>\n",
       "      <td>-1.112198</td>\n",
       "      <td>-0.114794</td>\n",
       "      <td>0.0</td>\n",
       "      <td>0.0</td>\n",
       "      <td>-1.529584</td>\n",
       "      <td>-1.682901</td>\n",
       "      <td>-1.370140</td>\n",
       "      <td>1.762225</td>\n",
       "      <td>-0.415492</td>\n",
       "      <td>-1.160515</td>\n",
       "    </tr>\n",
       "    <tr>\n",
       "      <td>3</td>\n",
       "      <td>0.010801</td>\n",
       "      <td>-1.127962</td>\n",
       "      <td>-0.114794</td>\n",
       "      <td>0.0</td>\n",
       "      <td>0.0</td>\n",
       "      <td>-1.529584</td>\n",
       "      <td>-1.682901</td>\n",
       "      <td>-1.226633</td>\n",
       "      <td>-0.563804</td>\n",
       "      <td>0.551395</td>\n",
       "      <td>-1.336533</td>\n",
       "    </tr>\n",
       "    <tr>\n",
       "      <td>4</td>\n",
       "      <td>0.010801</td>\n",
       "      <td>-1.150482</td>\n",
       "      <td>-0.114794</td>\n",
       "      <td>0.0</td>\n",
       "      <td>0.0</td>\n",
       "      <td>-1.529584</td>\n",
       "      <td>-1.682901</td>\n",
       "      <td>-1.083125</td>\n",
       "      <td>-0.563804</td>\n",
       "      <td>0.551395</td>\n",
       "      <td>-1.437115</td>\n",
       "    </tr>\n",
       "  </tbody>\n",
       "</table>\n",
       "</div>"
      ],
      "text/plain": [
       "    holiday      temp   rain_1h  snow_1h  Year     Month       Day      Hour  \\\n",
       "0 -8.407008 -1.162492 -0.114794      0.0   0.0 -1.529584 -1.682901 -1.657154   \n",
       "1  0.010801 -1.140723 -0.114794      0.0   0.0 -1.529584 -1.682901 -1.513647   \n",
       "2  0.010801 -1.112198 -0.114794      0.0   0.0 -1.529584 -1.682901 -1.370140   \n",
       "3  0.010801 -1.127962 -0.114794      0.0   0.0 -1.529584 -1.682901 -1.226633   \n",
       "4  0.010801 -1.150482 -0.114794      0.0   0.0 -1.529584 -1.682901 -1.083125   \n",
       "\n",
       "   weather_main  weather_description  traffic_volume  \n",
       "0     -0.563804            -1.382379       -0.911033  \n",
       "1     -0.563804             1.034839       -0.879972  \n",
       "2      1.762225            -0.415492       -1.160515  \n",
       "3     -0.563804             0.551395       -1.336533  \n",
       "4     -0.563804             0.551395       -1.437115  "
      ]
     },
     "execution_count": 55,
     "metadata": {},
     "output_type": "execute_result"
    }
   ],
   "source": [
    "traffic_stdscalar.head()"
   ]
  },
  {
   "cell_type": "code",
   "execution_count": 56,
   "metadata": {},
   "outputs": [],
   "source": [
    "MinMax = MinMaxScaler()"
   ]
  },
  {
   "cell_type": "code",
   "execution_count": 57,
   "metadata": {},
   "outputs": [],
   "source": [
    "traffic_MinMax = MinMax.fit_transform(traffic)"
   ]
  },
  {
   "cell_type": "code",
   "execution_count": 58,
   "metadata": {},
   "outputs": [],
   "source": [
    "traffic_MinMax = pd.DataFrame(traffic_MinMax,columns=traffic.columns)"
   ]
  },
  {
   "cell_type": "code",
   "execution_count": 59,
   "metadata": {},
   "outputs": [
    {
     "data": {
      "text/html": [
       "<div>\n",
       "<style scoped>\n",
       "    .dataframe tbody tr th:only-of-type {\n",
       "        vertical-align: middle;\n",
       "    }\n",
       "\n",
       "    .dataframe tbody tr th {\n",
       "        vertical-align: top;\n",
       "    }\n",
       "\n",
       "    .dataframe thead th {\n",
       "        text-align: right;\n",
       "    }\n",
       "</style>\n",
       "<table border=\"1\" class=\"dataframe\">\n",
       "  <thead>\n",
       "    <tr style=\"text-align: right;\">\n",
       "      <th></th>\n",
       "      <th>holiday</th>\n",
       "      <th>temp</th>\n",
       "      <th>rain_1h</th>\n",
       "      <th>snow_1h</th>\n",
       "      <th>Year</th>\n",
       "      <th>Month</th>\n",
       "      <th>Day</th>\n",
       "      <th>Hour</th>\n",
       "      <th>weather_main</th>\n",
       "      <th>weather_description</th>\n",
       "      <th>traffic_volume</th>\n",
       "    </tr>\n",
       "  </thead>\n",
       "  <tbody>\n",
       "    <tr>\n",
       "      <td>0</td>\n",
       "      <td>0.5</td>\n",
       "      <td>0.294387</td>\n",
       "      <td>0.0</td>\n",
       "      <td>0.0</td>\n",
       "      <td>0.0</td>\n",
       "      <td>0.0</td>\n",
       "      <td>0.0</td>\n",
       "      <td>0.000000</td>\n",
       "      <td>0.111111</td>\n",
       "      <td>0.0625</td>\n",
       "      <td>0.180774</td>\n",
       "    </tr>\n",
       "    <tr>\n",
       "      <td>1</td>\n",
       "      <td>0.6</td>\n",
       "      <td>0.298959</td>\n",
       "      <td>0.0</td>\n",
       "      <td>0.0</td>\n",
       "      <td>0.0</td>\n",
       "      <td>0.0</td>\n",
       "      <td>0.0</td>\n",
       "      <td>0.043478</td>\n",
       "      <td>0.111111</td>\n",
       "      <td>0.6875</td>\n",
       "      <td>0.189707</td>\n",
       "    </tr>\n",
       "    <tr>\n",
       "      <td>2</td>\n",
       "      <td>0.6</td>\n",
       "      <td>0.304951</td>\n",
       "      <td>0.0</td>\n",
       "      <td>0.0</td>\n",
       "      <td>0.0</td>\n",
       "      <td>0.0</td>\n",
       "      <td>0.0</td>\n",
       "      <td>0.086957</td>\n",
       "      <td>0.777778</td>\n",
       "      <td>0.3125</td>\n",
       "      <td>0.109032</td>\n",
       "    </tr>\n",
       "    <tr>\n",
       "      <td>3</td>\n",
       "      <td>0.6</td>\n",
       "      <td>0.301640</td>\n",
       "      <td>0.0</td>\n",
       "      <td>0.0</td>\n",
       "      <td>0.0</td>\n",
       "      <td>0.0</td>\n",
       "      <td>0.0</td>\n",
       "      <td>0.130435</td>\n",
       "      <td>0.111111</td>\n",
       "      <td>0.5625</td>\n",
       "      <td>0.058415</td>\n",
       "    </tr>\n",
       "    <tr>\n",
       "      <td>4</td>\n",
       "      <td>0.6</td>\n",
       "      <td>0.296909</td>\n",
       "      <td>0.0</td>\n",
       "      <td>0.0</td>\n",
       "      <td>0.0</td>\n",
       "      <td>0.0</td>\n",
       "      <td>0.0</td>\n",
       "      <td>0.173913</td>\n",
       "      <td>0.111111</td>\n",
       "      <td>0.5625</td>\n",
       "      <td>0.029491</td>\n",
       "    </tr>\n",
       "  </tbody>\n",
       "</table>\n",
       "</div>"
      ],
      "text/plain": [
       "   holiday      temp  rain_1h  snow_1h  Year  Month  Day      Hour  \\\n",
       "0      0.5  0.294387      0.0      0.0   0.0    0.0  0.0  0.000000   \n",
       "1      0.6  0.298959      0.0      0.0   0.0    0.0  0.0  0.043478   \n",
       "2      0.6  0.304951      0.0      0.0   0.0    0.0  0.0  0.086957   \n",
       "3      0.6  0.301640      0.0      0.0   0.0    0.0  0.0  0.130435   \n",
       "4      0.6  0.296909      0.0      0.0   0.0    0.0  0.0  0.173913   \n",
       "\n",
       "   weather_main  weather_description  traffic_volume  \n",
       "0      0.111111               0.0625        0.180774  \n",
       "1      0.111111               0.6875        0.189707  \n",
       "2      0.777778               0.3125        0.109032  \n",
       "3      0.111111               0.5625        0.058415  \n",
       "4      0.111111               0.5625        0.029491  "
      ]
     },
     "execution_count": 59,
     "metadata": {},
     "output_type": "execute_result"
    }
   ],
   "source": [
    "traffic_MinMax.head()"
   ]
  },
  {
   "cell_type": "code",
   "execution_count": 60,
   "metadata": {},
   "outputs": [],
   "source": [
    "Robust = RobustScaler()"
   ]
  },
  {
   "cell_type": "code",
   "execution_count": 61,
   "metadata": {},
   "outputs": [],
   "source": [
    "traffic_Robust = Robust.fit_transform(traffic)"
   ]
  },
  {
   "cell_type": "code",
   "execution_count": 62,
   "metadata": {},
   "outputs": [],
   "source": [
    "traffic_Robust = pd.DataFrame(traffic_Robust,columns=traffic.columns)"
   ]
  },
  {
   "cell_type": "code",
   "execution_count": 63,
   "metadata": {},
   "outputs": [
    {
     "data": {
      "text/html": [
       "<div>\n",
       "<style scoped>\n",
       "    .dataframe tbody tr th:only-of-type {\n",
       "        vertical-align: middle;\n",
       "    }\n",
       "\n",
       "    .dataframe tbody tr th {\n",
       "        vertical-align: top;\n",
       "    }\n",
       "\n",
       "    .dataframe thead th {\n",
       "        text-align: right;\n",
       "    }\n",
       "</style>\n",
       "<table border=\"1\" class=\"dataframe\">\n",
       "  <thead>\n",
       "    <tr style=\"text-align: right;\">\n",
       "      <th></th>\n",
       "      <th>holiday</th>\n",
       "      <th>temp</th>\n",
       "      <th>rain_1h</th>\n",
       "      <th>snow_1h</th>\n",
       "      <th>Year</th>\n",
       "      <th>Month</th>\n",
       "      <th>Day</th>\n",
       "      <th>Hour</th>\n",
       "      <th>weather_main</th>\n",
       "      <th>weather_description</th>\n",
       "      <th>traffic_volume</th>\n",
       "    </tr>\n",
       "  </thead>\n",
       "  <tbody>\n",
       "    <tr>\n",
       "      <td>0</td>\n",
       "      <td>-1.0</td>\n",
       "      <td>-0.660936</td>\n",
       "      <td>0.0</td>\n",
       "      <td>0.0</td>\n",
       "      <td>0.0</td>\n",
       "      <td>-1.0</td>\n",
       "      <td>-0.933333</td>\n",
       "      <td>-0.846154</td>\n",
       "      <td>0.0</td>\n",
       "      <td>-0.823529</td>\n",
       "      <td>-0.500263</td>\n",
       "    </tr>\n",
       "    <tr>\n",
       "      <td>1</td>\n",
       "      <td>0.0</td>\n",
       "      <td>-0.647087</td>\n",
       "      <td>0.0</td>\n",
       "      <td>0.0</td>\n",
       "      <td>0.0</td>\n",
       "      <td>-1.0</td>\n",
       "      <td>-0.933333</td>\n",
       "      <td>-0.769231</td>\n",
       "      <td>0.0</td>\n",
       "      <td>0.352941</td>\n",
       "      <td>-0.483718</td>\n",
       "    </tr>\n",
       "    <tr>\n",
       "      <td>2</td>\n",
       "      <td>0.0</td>\n",
       "      <td>-0.628940</td>\n",
       "      <td>0.0</td>\n",
       "      <td>0.0</td>\n",
       "      <td>0.0</td>\n",
       "      <td>-1.0</td>\n",
       "      <td>-0.933333</td>\n",
       "      <td>-0.692308</td>\n",
       "      <td>1.2</td>\n",
       "      <td>-0.352941</td>\n",
       "      <td>-0.633141</td>\n",
       "    </tr>\n",
       "    <tr>\n",
       "      <td>3</td>\n",
       "      <td>0.0</td>\n",
       "      <td>-0.638968</td>\n",
       "      <td>0.0</td>\n",
       "      <td>0.0</td>\n",
       "      <td>0.0</td>\n",
       "      <td>-1.0</td>\n",
       "      <td>-0.933333</td>\n",
       "      <td>-0.615385</td>\n",
       "      <td>0.0</td>\n",
       "      <td>0.117647</td>\n",
       "      <td>-0.726891</td>\n",
       "    </tr>\n",
       "    <tr>\n",
       "      <td>4</td>\n",
       "      <td>0.0</td>\n",
       "      <td>-0.653295</td>\n",
       "      <td>0.0</td>\n",
       "      <td>0.0</td>\n",
       "      <td>0.0</td>\n",
       "      <td>-1.0</td>\n",
       "      <td>-0.933333</td>\n",
       "      <td>-0.538462</td>\n",
       "      <td>0.0</td>\n",
       "      <td>0.117647</td>\n",
       "      <td>-0.780462</td>\n",
       "    </tr>\n",
       "  </tbody>\n",
       "</table>\n",
       "</div>"
      ],
      "text/plain": [
       "   holiday      temp  rain_1h  snow_1h  Year  Month       Day      Hour  \\\n",
       "0     -1.0 -0.660936      0.0      0.0   0.0   -1.0 -0.933333 -0.846154   \n",
       "1      0.0 -0.647087      0.0      0.0   0.0   -1.0 -0.933333 -0.769231   \n",
       "2      0.0 -0.628940      0.0      0.0   0.0   -1.0 -0.933333 -0.692308   \n",
       "3      0.0 -0.638968      0.0      0.0   0.0   -1.0 -0.933333 -0.615385   \n",
       "4      0.0 -0.653295      0.0      0.0   0.0   -1.0 -0.933333 -0.538462   \n",
       "\n",
       "   weather_main  weather_description  traffic_volume  \n",
       "0           0.0            -0.823529       -0.500263  \n",
       "1           0.0             0.352941       -0.483718  \n",
       "2           1.2            -0.352941       -0.633141  \n",
       "3           0.0             0.117647       -0.726891  \n",
       "4           0.0             0.117647       -0.780462  "
      ]
     },
     "execution_count": 63,
     "metadata": {},
     "output_type": "execute_result"
    }
   ],
   "source": [
    "traffic_Robust.head()"
   ]
  },
  {
   "cell_type": "code",
   "execution_count": 64,
   "metadata": {},
   "outputs": [],
   "source": [
    "#linear reg\n",
    "#Importing Required Packages\n",
    "\n",
    "import numpy as np\n",
    "import pandas as pd\n",
    "import matplotlib.pyplot as plt\n",
    "import seaborn as sns\n",
    "import statsmodels.api as sm\n",
    "import warnings\n",
    "warnings.filterwarnings(\"ignore\")\n",
    "from sklearn.preprocessing import StandardScaler\n",
    "import scipy.stats as stats\n",
    "import pylab\n",
    "from statsmodels.regression.linear_model import OLS"
   ]
  },
  {
   "cell_type": "code",
   "execution_count": 65,
   "metadata": {},
   "outputs": [],
   "source": [
    "#Importing the Encoded Dataset\n",
    "\n",
    "traffic = pd.read_csv('traffic-encoded.csv')"
   ]
  },
  {
   "cell_type": "code",
   "execution_count": 66,
   "metadata": {},
   "outputs": [
    {
     "data": {
      "text/html": [
       "<div>\n",
       "<style scoped>\n",
       "    .dataframe tbody tr th:only-of-type {\n",
       "        vertical-align: middle;\n",
       "    }\n",
       "\n",
       "    .dataframe tbody tr th {\n",
       "        vertical-align: top;\n",
       "    }\n",
       "\n",
       "    .dataframe thead th {\n",
       "        text-align: right;\n",
       "    }\n",
       "</style>\n",
       "<table border=\"1\" class=\"dataframe\">\n",
       "  <thead>\n",
       "    <tr style=\"text-align: right;\">\n",
       "      <th></th>\n",
       "      <th>holiday</th>\n",
       "      <th>temp</th>\n",
       "      <th>rain_1h</th>\n",
       "      <th>snow_1h</th>\n",
       "      <th>Year</th>\n",
       "      <th>Month</th>\n",
       "      <th>Day</th>\n",
       "      <th>Hour</th>\n",
       "      <th>weather_main</th>\n",
       "      <th>weather_description</th>\n",
       "      <th>traffic_volume</th>\n",
       "    </tr>\n",
       "  </thead>\n",
       "  <tbody>\n",
       "    <tr>\n",
       "      <td>0</td>\n",
       "      <td>5</td>\n",
       "      <td>263.49</td>\n",
       "      <td>0.0</td>\n",
       "      <td>0</td>\n",
       "      <td>2013</td>\n",
       "      <td>1</td>\n",
       "      <td>1</td>\n",
       "      <td>0</td>\n",
       "      <td>1</td>\n",
       "      <td>2</td>\n",
       "      <td>1439</td>\n",
       "    </tr>\n",
       "    <tr>\n",
       "      <td>1</td>\n",
       "      <td>6</td>\n",
       "      <td>263.78</td>\n",
       "      <td>0.0</td>\n",
       "      <td>0</td>\n",
       "      <td>2013</td>\n",
       "      <td>1</td>\n",
       "      <td>1</td>\n",
       "      <td>1</td>\n",
       "      <td>1</td>\n",
       "      <td>22</td>\n",
       "      <td>1502</td>\n",
       "    </tr>\n",
       "    <tr>\n",
       "      <td>2</td>\n",
       "      <td>6</td>\n",
       "      <td>264.16</td>\n",
       "      <td>0.0</td>\n",
       "      <td>0</td>\n",
       "      <td>2013</td>\n",
       "      <td>1</td>\n",
       "      <td>1</td>\n",
       "      <td>2</td>\n",
       "      <td>7</td>\n",
       "      <td>10</td>\n",
       "      <td>933</td>\n",
       "    </tr>\n",
       "    <tr>\n",
       "      <td>3</td>\n",
       "      <td>6</td>\n",
       "      <td>263.95</td>\n",
       "      <td>0.0</td>\n",
       "      <td>0</td>\n",
       "      <td>2013</td>\n",
       "      <td>1</td>\n",
       "      <td>1</td>\n",
       "      <td>3</td>\n",
       "      <td>1</td>\n",
       "      <td>18</td>\n",
       "      <td>576</td>\n",
       "    </tr>\n",
       "    <tr>\n",
       "      <td>4</td>\n",
       "      <td>6</td>\n",
       "      <td>263.65</td>\n",
       "      <td>0.0</td>\n",
       "      <td>0</td>\n",
       "      <td>2013</td>\n",
       "      <td>1</td>\n",
       "      <td>1</td>\n",
       "      <td>4</td>\n",
       "      <td>1</td>\n",
       "      <td>18</td>\n",
       "      <td>372</td>\n",
       "    </tr>\n",
       "  </tbody>\n",
       "</table>\n",
       "</div>"
      ],
      "text/plain": [
       "   holiday    temp  rain_1h  snow_1h  Year  Month  Day  Hour  weather_main  \\\n",
       "0        5  263.49      0.0        0  2013      1    1     0             1   \n",
       "1        6  263.78      0.0        0  2013      1    1     1             1   \n",
       "2        6  264.16      0.0        0  2013      1    1     2             7   \n",
       "3        6  263.95      0.0        0  2013      1    1     3             1   \n",
       "4        6  263.65      0.0        0  2013      1    1     4             1   \n",
       "\n",
       "   weather_description  traffic_volume  \n",
       "0                    2            1439  \n",
       "1                   22            1502  \n",
       "2                   10             933  \n",
       "3                   18             576  \n",
       "4                   18             372  "
      ]
     },
     "execution_count": 66,
     "metadata": {},
     "output_type": "execute_result"
    }
   ],
   "source": [
    "traffic.head()"
   ]
  },
  {
   "cell_type": "markdown",
   "metadata": {},
   "source": [
    "Scaling the data"
   ]
  },
  {
   "cell_type": "code",
   "execution_count": 67,
   "metadata": {},
   "outputs": [],
   "source": [
    "stdscale = StandardScaler()"
   ]
  },
  {
   "cell_type": "code",
   "execution_count": 68,
   "metadata": {},
   "outputs": [],
   "source": [
    "traffic1 = stdscale.fit_transform(traffic)"
   ]
  },
  {
   "cell_type": "code",
   "execution_count": 69,
   "metadata": {},
   "outputs": [],
   "source": [
    "traffic1 = pd.DataFrame(traffic1,columns=traffic.columns)"
   ]
  },
  {
   "cell_type": "code",
   "execution_count": 70,
   "metadata": {},
   "outputs": [],
   "source": [
    "X = traffic1.drop('traffic_volume',axis=1)\n",
    "Y = traffic1['traffic_volume']"
   ]
  },
  {
   "cell_type": "markdown",
   "metadata": {},
   "source": [
    "Fitting with the OLS model"
   ]
  },
  {
   "cell_type": "code",
   "execution_count": 71,
   "metadata": {},
   "outputs": [],
   "source": [
    "model = sm.OLS(Y,X).fit()"
   ]
  },
  {
   "cell_type": "code",
   "execution_count": 72,
   "metadata": {},
   "outputs": [],
   "source": [
    "fittedvals = model.fittedvalues\n",
    "residuals =model.resid"
   ]
  },
  {
   "cell_type": "code",
   "execution_count": 73,
   "metadata": {},
   "outputs": [
    {
     "name": "stdout",
     "output_type": "stream",
     "text": [
      "R Squared : 0.1376\n",
      "Adjusted R Squared : 0.1367\n"
     ]
    }
   ],
   "source": [
    "rsq = model.rsquared\n",
    "adj_rsq = model.rsquared_adj\n",
    "print('R Squared :',round(rsq,4))\n",
    "print('Adjusted R Squared :',round(adj_rsq,4))"
   ]
  },
  {
   "cell_type": "markdown",
   "metadata": {},
   "source": [
    "Validating all the assumptions"
   ]
  },
  {
   "cell_type": "code",
   "execution_count": 74,
   "metadata": {},
   "outputs": [],
   "source": [
    "# 1.) Linear Relationship\n",
    "\n",
    "from statsmodels.stats.api import linear_rainbow,het_goldfeldquandt"
   ]
  },
  {
   "cell_type": "code",
   "execution_count": 75,
   "metadata": {},
   "outputs": [
    {
     "data": {
      "text/plain": [
       "(0.9061919865212877, 0.9993642127941857)"
      ]
     },
     "execution_count": 75,
     "metadata": {},
     "output_type": "execute_result"
    }
   ],
   "source": [
    "stat = linear_rainbow(model)\n",
    "stat"
   ]
  },
  {
   "cell_type": "code",
   "execution_count": 76,
   "metadata": {},
   "outputs": [
    {
     "name": "stdout",
     "output_type": "stream",
     "text": [
      "The p value is 0.9994  > 0.05. So Rejecting the Null\n"
     ]
    }
   ],
   "source": [
    "if stat[1] > 0.05:\n",
    "    print('The p value is',round(stat[1],4),' > 0.05. So Rejecting the Null')\n",
    "else:\n",
    "    print('The p value is',round(stat[1],4),' < 0.05. So Accepting the Null')\n",
    "    "
   ]
  },
  {
   "cell_type": "code",
   "execution_count": 77,
   "metadata": {},
   "outputs": [],
   "source": [
    "#From p value we can able to say that the data is linear"
   ]
  },
  {
   "cell_type": "code",
   "execution_count": 78,
   "metadata": {},
   "outputs": [],
   "source": [
    "#2.) Normality\n",
    "#All variables should be multivariate normal\n",
    "\n",
    "#Evaluation Plot\n",
    "#Q-Q Plot -- Normality"
   ]
  },
  {
   "cell_type": "code",
   "execution_count": 79,
   "metadata": {},
   "outputs": [],
   "source": [
    "st_residual = model.get_influence().resid_studentized_internal"
   ]
  },
  {
   "cell_type": "code",
   "execution_count": 80,
   "metadata": {},
   "outputs": [
    {
     "data": {
      "image/png": "[encoded data removed]",
      "text/plain": [
       "<Figure size 720x432 with 1 Axes>"
      ]
     },
     "metadata": {
      "needs_background": "light"
     },
     "output_type": "display_data"
    }
   ],
   "source": [
    "plt.figure(figsize=(10,6))\n",
    "stats.probplot(st_residual,dist='norm',plot=pylab)\n",
    "plt.show()"
   ]
  },
  {
   "cell_type": "code",
   "execution_count": 81,
   "metadata": {},
   "outputs": [],
   "source": [
    "# Test of Normality\n",
    "# Shapiro Test\n",
    "\n",
    "# Null Hypothesis      - the data is following the Guassian curve\n",
    "# Alternate Hypothesis - the data is not following the Guassian curve"
   ]
  },
  {
   "cell_type": "code",
   "execution_count": 82,
   "metadata": {},
   "outputs": [],
   "source": [
    "from scipy.stats import shapiro"
   ]
  },
  {
   "cell_type": "code",
   "execution_count": 83,
   "metadata": {},
   "outputs": [
    {
     "data": {
      "text/plain": [
       "(0.9533302187919617, 1.401298464324817e-45)"
      ]
     },
     "execution_count": 83,
     "metadata": {},
     "output_type": "execute_result"
    }
   ],
   "source": [
    "stat = shapiro(st_residual)\n",
    "stat"
   ]
  },
  {
   "cell_type": "code",
   "execution_count": 84,
   "metadata": {},
   "outputs": [
    {
     "name": "stdout",
     "output_type": "stream",
     "text": [
      "The p value is 0.0  < 0.05. So Accepting the Null\n"
     ]
    }
   ],
   "source": [
    "if stat[1] > 0.05:\n",
    "    print('The p value is',round(stat[1],4),' > 0.05. So Rejecting the Null')\n",
    "else:\n",
    "    print('The p value is',round(stat[1],4),' < 0.05. So Accepting the Null')"
   ]
  },
  {
   "cell_type": "code",
   "execution_count": 85,
   "metadata": {},
   "outputs": [],
   "source": [
    "# 3.) Multicollinearity\n",
    "# There should be no multicollinearity in the data. \n",
    "# Multicollinearity occurs when the independent variables are too highly correlated with each other.\n",
    "\n",
    "# Test of Multicollinearity\n",
    "# Variance Inflation Factor\n",
    "\n",
    "# VIF Value = 1       : No Correlation\n",
    "# VIF Value < 5       : Moderate\n",
    "# VIF Value > 5, < 10 : High\n",
    "# VIF Value > 10      : Very High   should drop the variable"
   ]
  },
  {
   "cell_type": "code",
   "execution_count": 86,
   "metadata": {},
   "outputs": [],
   "source": [
    "from statsmodels.stats.outliers_influence import variance_inflation_factor"
   ]
  },
  {
   "cell_type": "code",
   "execution_count": 87,
   "metadata": {},
   "outputs": [
    {
     "name": "stdout",
     "output_type": "stream",
     "text": [
      "holiday \t 1.0006264496696695\n",
      "temp \t 1.0529550112943658\n",
      "rain_1h \t 1.0487973101198413\n",
      "snow_1h \t nan\n",
      "Year \t nan\n",
      "Month \t 1.0508321792174833\n",
      "Day \t 1.0034083460803631\n",
      "Hour \t 1.0164143704936606\n",
      "weather_main \t 1.0465354447907165\n",
      "weather_description \t 1.0353814714867833\n"
     ]
    }
   ],
   "source": [
    "for i in range(0,len(X.columns)):\n",
    "    print(traffic.columns[i] ,'\\t', variance_inflation_factor(X.values,i))"
   ]
  },
  {
   "cell_type": "code",
   "execution_count": 88,
   "metadata": {},
   "outputs": [],
   "source": [
    "# There is no Correlation between the features \n",
    "# all the VIF values are within 5 \n",
    "# which indicates there is no multicollinearity"
   ]
  },
  {
   "cell_type": "code",
   "execution_count": 89,
   "metadata": {},
   "outputs": [],
   "source": [
    "#Test of AutoCorrelation\n",
    "\n",
    "from  statsmodels.stats.stattools import durbin_watson"
   ]
  },
  {
   "cell_type": "code",
   "execution_count": 90,
   "metadata": {},
   "outputs": [
    {
     "data": {
      "text/plain": [
       "0.24710323260735723"
      ]
     },
     "execution_count": 90,
     "metadata": {},
     "output_type": "execute_result"
    }
   ],
   "source": [
    "stat =durbin_watson(residuals)\n",
    "stat"
   ]
  },
  {
   "cell_type": "code",
   "execution_count": 91,
   "metadata": {},
   "outputs": [
    {
     "name": "stdout",
     "output_type": "stream",
     "text": [
      "The p value is 0.2471  != 2. So Rejecting the Null\n"
     ]
    }
   ],
   "source": [
    "if stat != 2:\n",
    "    print('The p value is',round(stat,4),' != 2. So Rejecting the Null')\n",
    "else:\n",
    "    print('The p value is',round(stat,4),' == 2. So Accepting the Null')"
   ]
  },
  {
   "cell_type": "code",
   "execution_count": 92,
   "metadata": {},
   "outputs": [],
   "source": [
    "#There is positive correlation in the residuals"
   ]
  },
  {
   "cell_type": "code",
   "execution_count": 93,
   "metadata": {},
   "outputs": [],
   "source": [
    "# 5.) Heteroscedasticity\n",
    "# The residuals should be equal across the regression line\n",
    "\n",
    "# Evaluation Plot\n",
    "# Scale Location Plot - Used to evaluate Heteroscadaticity\n",
    "\n",
    "# Test of Heteroscedasticity\n",
    "# Goldfend Quandt test\n",
    "\n",
    "#     Null Hypothesis      - the data is homoscedastic(uniform variance)\n",
    "#     Alternate Hypothesis - the data is heteroscedastic(unequal variance)"
   ]
  },
  {
   "cell_type": "code",
   "execution_count": 94,
   "metadata": {},
   "outputs": [
    {
     "data": {
      "text/plain": [
       "(0.9764851368932214, 0.7817705165378971, 'increasing')"
      ]
     },
     "execution_count": 94,
     "metadata": {},
     "output_type": "execute_result"
    }
   ],
   "source": [
    "stat = het_goldfeldquandt(Y,model.model.exog)\n",
    "stat"
   ]
  },
  {
   "cell_type": "code",
   "execution_count": 95,
   "metadata": {},
   "outputs": [
    {
     "name": "stdout",
     "output_type": "stream",
     "text": [
      "The p value is 0.7818  > 0.05. So Rejecting the Null\n"
     ]
    }
   ],
   "source": [
    "if stat[1] > 0.05:\n",
    "    print('The p value is',round(stat[1],4),' > 0.05. So Rejecting the Null')\n",
    "else:\n",
    "    print('The p value is',round(stat[1],4),' < 0.05. So Accepting the Null')"
   ]
  },
  {
   "cell_type": "code",
   "execution_count": 96,
   "metadata": {},
   "outputs": [],
   "source": [
    "# modelling linear regression\n",
    "\n",
    "# Importing Libraries\n",
    "\n",
    "import numpy as np\n",
    "import pandas as pd\n",
    "import matplotlib.pyplot as plt\n",
    "import seaborn as sns\n",
    "import statsmodels.api as sm"
   ]
  },
  {
   "cell_type": "code",
   "execution_count": 97,
   "metadata": {},
   "outputs": [],
   "source": [
    "traffic = pd.read_csv('traffic-Encoded.csv')"
   ]
  },
  {
   "cell_type": "code",
   "execution_count": 98,
   "metadata": {},
   "outputs": [
    {
     "data": {
      "text/html": [
       "<div>\n",
       "<style scoped>\n",
       "    .dataframe tbody tr th:only-of-type {\n",
       "        vertical-align: middle;\n",
       "    }\n",
       "\n",
       "    .dataframe tbody tr th {\n",
       "        vertical-align: top;\n",
       "    }\n",
       "\n",
       "    .dataframe thead th {\n",
       "        text-align: right;\n",
       "    }\n",
       "</style>\n",
       "<table border=\"1\" class=\"dataframe\">\n",
       "  <thead>\n",
       "    <tr style=\"text-align: right;\">\n",
       "      <th></th>\n",
       "      <th>holiday</th>\n",
       "      <th>temp</th>\n",
       "      <th>rain_1h</th>\n",
       "      <th>snow_1h</th>\n",
       "      <th>Year</th>\n",
       "      <th>Month</th>\n",
       "      <th>Day</th>\n",
       "      <th>Hour</th>\n",
       "      <th>weather_main</th>\n",
       "      <th>weather_description</th>\n",
       "      <th>traffic_volume</th>\n",
       "    </tr>\n",
       "  </thead>\n",
       "  <tbody>\n",
       "    <tr>\n",
       "      <td>0</td>\n",
       "      <td>5</td>\n",
       "      <td>263.49</td>\n",
       "      <td>0.0</td>\n",
       "      <td>0</td>\n",
       "      <td>2013</td>\n",
       "      <td>1</td>\n",
       "      <td>1</td>\n",
       "      <td>0</td>\n",
       "      <td>1</td>\n",
       "      <td>2</td>\n",
       "      <td>1439</td>\n",
       "    </tr>\n",
       "    <tr>\n",
       "      <td>1</td>\n",
       "      <td>6</td>\n",
       "      <td>263.78</td>\n",
       "      <td>0.0</td>\n",
       "      <td>0</td>\n",
       "      <td>2013</td>\n",
       "      <td>1</td>\n",
       "      <td>1</td>\n",
       "      <td>1</td>\n",
       "      <td>1</td>\n",
       "      <td>22</td>\n",
       "      <td>1502</td>\n",
       "    </tr>\n",
       "    <tr>\n",
       "      <td>2</td>\n",
       "      <td>6</td>\n",
       "      <td>264.16</td>\n",
       "      <td>0.0</td>\n",
       "      <td>0</td>\n",
       "      <td>2013</td>\n",
       "      <td>1</td>\n",
       "      <td>1</td>\n",
       "      <td>2</td>\n",
       "      <td>7</td>\n",
       "      <td>10</td>\n",
       "      <td>933</td>\n",
       "    </tr>\n",
       "    <tr>\n",
       "      <td>3</td>\n",
       "      <td>6</td>\n",
       "      <td>263.95</td>\n",
       "      <td>0.0</td>\n",
       "      <td>0</td>\n",
       "      <td>2013</td>\n",
       "      <td>1</td>\n",
       "      <td>1</td>\n",
       "      <td>3</td>\n",
       "      <td>1</td>\n",
       "      <td>18</td>\n",
       "      <td>576</td>\n",
       "    </tr>\n",
       "    <tr>\n",
       "      <td>4</td>\n",
       "      <td>6</td>\n",
       "      <td>263.65</td>\n",
       "      <td>0.0</td>\n",
       "      <td>0</td>\n",
       "      <td>2013</td>\n",
       "      <td>1</td>\n",
       "      <td>1</td>\n",
       "      <td>4</td>\n",
       "      <td>1</td>\n",
       "      <td>18</td>\n",
       "      <td>372</td>\n",
       "    </tr>\n",
       "  </tbody>\n",
       "</table>\n",
       "</div>"
      ],
      "text/plain": [
       "   holiday    temp  rain_1h  snow_1h  Year  Month  Day  Hour  weather_main  \\\n",
       "0        5  263.49      0.0        0  2013      1    1     0             1   \n",
       "1        6  263.78      0.0        0  2013      1    1     1             1   \n",
       "2        6  264.16      0.0        0  2013      1    1     2             7   \n",
       "3        6  263.95      0.0        0  2013      1    1     3             1   \n",
       "4        6  263.65      0.0        0  2013      1    1     4             1   \n",
       "\n",
       "   weather_description  traffic_volume  \n",
       "0                    2            1439  \n",
       "1                   22            1502  \n",
       "2                   10             933  \n",
       "3                   18             576  \n",
       "4                   18             372  "
      ]
     },
     "execution_count": 98,
     "metadata": {},
     "output_type": "execute_result"
    }
   ],
   "source": [
    "traffic.head()"
   ]
  },
  {
   "cell_type": "code",
   "execution_count": 99,
   "metadata": {},
   "outputs": [],
   "source": [
    "X = traffic.drop('traffic_volume',axis=1)\n",
    "Y = traffic['traffic_volume']"
   ]
  },
  {
   "cell_type": "markdown",
   "metadata": {},
   "source": [
    "Train Test Split"
   ]
  },
  {
   "cell_type": "code",
   "execution_count": 100,
   "metadata": {},
   "outputs": [],
   "source": [
    "from sklearn.model_selection import train_test_split"
   ]
  },
  {
   "cell_type": "markdown",
   "metadata": {},
   "source": [
    "The test size is taken as 25%"
   ]
  },
  {
   "cell_type": "code",
   "execution_count": 101,
   "metadata": {},
   "outputs": [],
   "source": [
    "xtrain,xtest,ytrain,ytest=train_test_split(X,Y,test_size=0.25,random_state=0)"
   ]
  },
  {
   "cell_type": "code",
   "execution_count": 102,
   "metadata": {},
   "outputs": [],
   "source": [
    "#modelling linear regression\n",
    "\n",
    "from sklearn.linear_model import LinearRegression"
   ]
  },
  {
   "cell_type": "code",
   "execution_count": 103,
   "metadata": {},
   "outputs": [],
   "source": [
    "LR = LinearRegression()"
   ]
  },
  {
   "cell_type": "code",
   "execution_count": 109,
   "metadata": {},
   "outputs": [
    {
     "data": {
      "text/plain": [
       "LinearRegression(copy_X=True, fit_intercept=True, n_jobs=None, normalize=False)"
      ]
     },
     "execution_count": 109,
     "metadata": {},
     "output_type": "execute_result"
    }
   ],
   "source": [
    "LR.fit(xtrain,ytrain)"
   ]
  },
  {
   "cell_type": "code",
   "execution_count": 105,
   "metadata": {},
   "outputs": [],
   "source": [
    "pred = LR.predict(xtest)"
   ]
  },
  {
   "cell_type": "markdown",
   "metadata": {},
   "source": [
    "Evaluation Metrics"
   ]
  },
  {
   "cell_type": "code",
   "execution_count": 106,
   "metadata": {},
   "outputs": [],
   "source": [
    "import sklearn.metrics as metrics"
   ]
  },
  {
   "cell_type": "code",
   "execution_count": 107,
   "metadata": {},
   "outputs": [
    {
     "name": "stdout",
     "output_type": "stream",
     "text": [
      "R Squared :  0.14226682503077148\n"
     ]
    }
   ],
   "source": [
    "print('R Squared : ',metrics.r2_score(ytest,pred))"
   ]
  },
  {
   "cell_type": "code",
   "execution_count": 110,
   "metadata": {},
   "outputs": [
    {
     "name": "stdout",
     "output_type": "stream",
     "text": [
      "Mean Absolute Error :  1666.6875948596871\n"
     ]
    }
   ],
   "source": [
    "print('Mean Absolute Error : ',metrics.mean_absolute_error(ytest,pred))"
   ]
  },
  {
   "cell_type": "code",
   "execution_count": 111,
   "metadata": {},
   "outputs": [
    {
     "name": "stdout",
     "output_type": "stream",
     "text": [
      "Mean Squared Error :  3569809.847281104\n"
     ]
    }
   ],
   "source": [
    "print('Mean Squared Error : ',metrics.mean_squared_error(ytest,pred))"
   ]
  },
  {
   "cell_type": "code",
   "execution_count": 112,
   "metadata": {},
   "outputs": [
    {
     "name": "stdout",
     "output_type": "stream",
     "text": [
      "Root Mean Squared Error :  1889.3940423535541\n"
     ]
    }
   ],
   "source": [
    "print('Root Mean Squared Error : ',np.sqrt(metrics.mean_squared_error(ytest,pred)))"
   ]
  },
  {
   "cell_type": "code",
   "execution_count": null,
   "metadata": {},
   "outputs": [],
   "source": [
    "#Inference:\n",
    "#By fitting all the features in the model we have got only 14% R squared.\n",
    "\n",
    "#From the score we can get the inference \n",
    "#that only 14 percent of the variation \n",
    "#is reduced by including all the features in the model."
   ]
  },
  {
   "cell_type": "markdown",
   "metadata": {},
   "source": [
    "Forward Selection\n",
    "Lets proceed with the forward selection to get which feature is more important for the traffic_volume Prediction\n",
    "In each iteration, we add one more feature and find the score till an addition of a new variable does not improve the performance of the model."
   ]
  },
  {
   "cell_type": "markdown",
   "metadata": {},
   "source": [
    "Creating a GRID search to find the best single feature"
   ]
  },
  {
   "cell_type": "code",
   "execution_count": 113,
   "metadata": {},
   "outputs": [
    {
     "name": "stdout",
     "output_type": "stream",
     "text": [
      "holiday :  0.0\n",
      "temp :  0.0265\n",
      "rain_1h :  -0.0002\n",
      "snow_1h :  -0.0002\n",
      "Year :  -0.0002\n",
      "Month :  -0.0009\n",
      "Day :  -0.0001\n",
      "Hour :  0.1271\n",
      "weather_main :  0.001\n",
      "weather_description :  0.0035\n"
     ]
    }
   ],
   "source": [
    "for i in range(len(traffic.columns)-1):\n",
    "    X=  traffic[[traffic.columns[i]]]\n",
    "    Y=  traffic[['traffic_volume']]\n",
    "    xtrain,xtest,ytrain,ytest = train_test_split(X,Y,test_size = 0.25,random_state = 0)\n",
    "    LR.fit(xtrain,ytrain)\n",
    "    pred = LR.predict(xtest)\n",
    "    print(traffic.columns[i],': ',round(metrics.r2_score(ytest,pred),4))"
   ]
  },
  {
   "cell_type": "markdown",
   "metadata": {},
   "source": [
    "From the above R squared score only two feature temp and Hour is the only feature which has better score. so we add these two features as the base and proceed with other features."
   ]
  },
  {
   "cell_type": "code",
   "execution_count": 114,
   "metadata": {},
   "outputs": [
    {
     "name": "stdout",
     "output_type": "stream",
     "text": [
      "holiday 0.1427\n",
      "temp 0.1427\n",
      "rain_1h 0.1422\n",
      "snow_1h 0.1427\n",
      "Year 0.1427\n",
      "Month 0.1415\n",
      "Day 0.1419\n",
      "Hour 0.1427\n",
      "weather_main 0.1425\n",
      "weather_description 0.1446\n"
     ]
    }
   ],
   "source": [
    "for i in range(len(traffic.columns)-1):\n",
    "    X=  traffic[['temp','Hour',traffic.columns[i]]]\n",
    "    Y=  traffic[['traffic_volume']]\n",
    "    xtrain,xtest,ytrain,ytest = train_test_split(X,Y,test_size = 0.25,random_state = 0)\n",
    "    LR.fit(xtrain,ytrain)\n",
    "    pred = LR.predict(xtest)\n",
    "    print(traffic.columns[i],round(metrics.r2_score(ytest,pred),4))"
   ]
  },
  {
   "cell_type": "markdown",
   "metadata": {},
   "source": [
    "The next highest score is for weather_description so we will include it in the next iteration"
   ]
  },
  {
   "cell_type": "code",
   "execution_count": 115,
   "metadata": {},
   "outputs": [
    {
     "name": "stdout",
     "output_type": "stream",
     "text": [
      "holiday 0.1447\n",
      "temp 0.1446\n",
      "rain_1h 0.1442\n",
      "snow_1h 0.1446\n",
      "Year 0.1446\n",
      "Month 0.1435\n",
      "Day 0.1438\n",
      "Hour 0.1446\n",
      "weather_main 0.1445\n",
      "weather_description 0.1446\n"
     ]
    }
   ],
   "source": [
    "for i in range(len(traffic.columns)-1):\n",
    "    X=  traffic[['temp','Hour','weather_description',traffic.columns[i]]]\n",
    "    Y=  traffic[['traffic_volume']]\n",
    "    xtrain,xtest,ytrain,ytest = train_test_split(X,Y,test_size = 0.25,random_state = 0)\n",
    "    LR.fit(xtrain,ytrain)\n",
    "    pred = LR.predict(xtest)\n",
    "    print(traffic.columns[i],round(metrics.r2_score(ytest,pred),4))"
   ]
  },
  {
   "cell_type": "markdown",
   "metadata": {},
   "source": [
    "The next highest score is for Holiday so we will include it in the next iteration"
   ]
  },
  {
   "cell_type": "code",
   "execution_count": 116,
   "metadata": {},
   "outputs": [
    {
     "name": "stdout",
     "output_type": "stream",
     "text": [
      "holiday 0.1447\n",
      "temp 0.1447\n",
      "rain_1h 0.1443\n",
      "snow_1h 0.1447\n",
      "Year 0.1447\n",
      "Month 0.1435\n",
      "Day 0.1439\n",
      "Hour 0.1447\n",
      "weather_main 0.1445\n",
      "weather_description 0.1447\n"
     ]
    }
   ],
   "source": [
    "for i in range(len(traffic.columns)-1):\n",
    "    X=  traffic[['temp','Hour','weather_description','holiday',traffic.columns[i]]]\n",
    "    Y=  traffic[['traffic_volume']]\n",
    "    xtrain,xtest,ytrain,ytest = train_test_split(X,Y,test_size = 0.25,random_state = 0)\n",
    "    LR.fit(xtrain,ytrain)\n",
    "    pred = LR.predict(xtest)\n",
    "    print(traffic.columns[i],round(metrics.r2_score(ytest,pred),4))"
   ]
  },
  {
   "cell_type": "markdown",
   "metadata": {},
   "source": [
    "Inference:\n",
    "We have attained the R squared score of the base model which includes all the features.\n",
    "So from this we can say that only 4 features are enough for the prediction.\n",
    "These 4 features ['temp','Hour','weather_description','holiday'] have contributed the 100% for 14% variation of dependent variable"
   ]
  },
  {
   "cell_type": "markdown",
   "metadata": {},
   "source": [
    "Polynomial Transformation\n",
    "To understand the need for polynomial regression, we will see the scatter plot of the residuals"
   ]
  },
  {
   "cell_type": "code",
   "execution_count": 117,
   "metadata": {},
   "outputs": [],
   "source": [
    "import matplotlib.pyplot as plt"
   ]
  },
  {
   "cell_type": "code",
   "execution_count": 118,
   "metadata": {},
   "outputs": [
    {
     "data": {
      "image/png": "[encoded data removed]",
      "text/plain": [
       "<Figure size 1080x576 with 1 Axes>"
      ]
     },
     "metadata": {
      "needs_background": "light"
     },
     "output_type": "display_data"
    }
   ],
   "source": [
    "plt.figure(figsize=(15,8))\n",
    "plt.scatter (ytest, pred) \n",
    "range = [ytest.min (), pred.max ()] \n",
    "plt.plot (range, range, 'red') \n",
    "plt.title('Predicted vs Actual ')\n",
    "plt.xlabel ('Actual') \n",
    "plt.ylabel ('Predicted ') \n",
    "plt.show ()"
   ]
  },
  {
   "cell_type": "markdown",
   "metadata": {},
   "source": [
    "We can see that the straight line is unable to capture the patterns in the data. This is an example of under-fitting.\n",
    "\n",
    "To overcome under-fitting, we need to increase the complexity of the model. To generate a higher order equation we can add powers of the original features as new features.the curve that we are fitting is quadratic in nature."
   ]
  },
  {
   "cell_type": "code",
   "execution_count": 119,
   "metadata": {},
   "outputs": [],
   "source": [
    "from sklearn.preprocessing import PolynomialFeatures"
   ]
  },
  {
   "cell_type": "code",
   "execution_count": 120,
   "metadata": {},
   "outputs": [],
   "source": [
    "pf = PolynomialFeatures(degree=2)"
   ]
  },
  {
   "cell_type": "code",
   "execution_count": 121,
   "metadata": {},
   "outputs": [],
   "source": [
    "traffic1 = traffic.copy()"
   ]
  },
  {
   "cell_type": "code",
   "execution_count": 122,
   "metadata": {},
   "outputs": [],
   "source": [
    "X = traffic1.drop('traffic_volume',axis=1)\n",
    "Y= traffic1['traffic_volume']"
   ]
  },
  {
   "cell_type": "markdown",
   "metadata": {},
   "source": [
    "Transforming the data"
   ]
  },
  {
   "cell_type": "code",
   "execution_count": 123,
   "metadata": {},
   "outputs": [],
   "source": [
    "X = pf.fit_transform(X)"
   ]
  },
  {
   "cell_type": "code",
   "execution_count": 124,
   "metadata": {},
   "outputs": [],
   "source": [
    "xtrain,xtest,ytrain,ytest=train_test_split(X,Y,test_size=0.25,random_state=0)"
   ]
  },
  {
   "cell_type": "code",
   "execution_count": 125,
   "metadata": {},
   "outputs": [],
   "source": [
    "LR = LinearRegression()"
   ]
  },
  {
   "cell_type": "code",
   "execution_count": 126,
   "metadata": {},
   "outputs": [
    {
     "data": {
      "text/plain": [
       "LinearRegression(copy_X=True, fit_intercept=True, n_jobs=None, normalize=False)"
      ]
     },
     "execution_count": 126,
     "metadata": {},
     "output_type": "execute_result"
    }
   ],
   "source": [
    "LR.fit(xtrain,ytrain)"
   ]
  },
  {
   "cell_type": "code",
   "execution_count": 127,
   "metadata": {},
   "outputs": [],
   "source": [
    "pred = LR.predict(xtest)"
   ]
  },
  {
   "cell_type": "code",
   "execution_count": 128,
   "metadata": {},
   "outputs": [
    {
     "name": "stdout",
     "output_type": "stream",
     "text": [
      "R Squared :  0.6579213370473369\n"
     ]
    }
   ],
   "source": [
    "print('R Squared : ',metrics.r2_score(ytest,pred))"
   ]
  },
  {
   "cell_type": "code",
   "execution_count": 129,
   "metadata": {},
   "outputs": [
    {
     "name": "stdout",
     "output_type": "stream",
     "text": [
      "Mean Absolute Error :  930.0333124416977\n"
     ]
    }
   ],
   "source": [
    "print('Mean Absolute Error : ',metrics.mean_absolute_error(ytest,pred))"
   ]
  },
  {
   "cell_type": "code",
   "execution_count": 130,
   "metadata": {},
   "outputs": [
    {
     "name": "stdout",
     "output_type": "stream",
     "text": [
      "Mean Squared Error :  1423701.2338912736\n"
     ]
    }
   ],
   "source": [
    "print('Mean Squared Error : ',metrics.mean_squared_error(ytest,pred))"
   ]
  },
  {
   "cell_type": "code",
   "execution_count": 131,
   "metadata": {},
   "outputs": [
    {
     "name": "stdout",
     "output_type": "stream",
     "text": [
      "Root Mean Squared Error :  1193.1895213633388\n"
     ]
    }
   ],
   "source": [
    "print('Root Mean Squared Error : ',np.sqrt(metrics.mean_squared_error(ytest,pred)))"
   ]
  },
  {
   "cell_type": "markdown",
   "metadata": {},
   "source": [
    "We can see now the R squared has increased and it is 65 percent which indicates that 65 percent of variation is reduced after transforming the data to polynomial regression"
   ]
  },
  {
   "cell_type": "code",
   "execution_count": 132,
   "metadata": {},
   "outputs": [
    {
     "data": {
      "image/png": "[encoded data removed]",
      "text/plain": [
       "<Figure size 1080x576 with 1 Axes>"
      ]
     },
     "metadata": {
      "needs_background": "light"
     },
     "output_type": "display_data"
    }
   ],
   "source": [
    "plt.figure(figsize=(15,8))\n",
    "plt.scatter (ytest, pred) \n",
    "range = [ytest.min (), pred.max ()] \n",
    "plt.plot (range, range, 'red') \n",
    "plt.title('Polynomial Transformed Data')\n",
    "plt.xlabel ('Actual') \n",
    "plt.ylabel ('predicted ') \n",
    "plt.show ()"
   ]
  },
  {
   "cell_type": "markdown",
   "metadata": {},
   "source": [
    "we can see that still the line is not a best fit but it is more better than the original data. Transformed data has given a better performance than the original one."
   ]
  },
  {
   "cell_type": "code",
   "execution_count": null,
   "metadata": {},
   "outputs": [],
   "source": []
  }
 ],
 "metadata": {
  "kernelspec": {
   "display_name": "Python 3",
   "language": "python",
   "name": "python3"
  },
  "language_info": {
   "codemirror_mode": {
    "name": "ipython",
    "version": 3
   },
   "file_extension": ".py",
   "mimetype": "text/x-python",
   "name": "python",
   "nbconvert_exporter": "python",
   "pygments_lexer": "ipython3",
   "version": "3.7.4"
  }
 },
 "nbformat": 4,
 "nbformat_minor": 2
}
